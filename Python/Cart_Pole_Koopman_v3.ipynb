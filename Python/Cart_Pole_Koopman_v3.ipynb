{
 "cells": [
  {
   "cell_type": "code",
   "execution_count": 5,
   "outputs": [],
   "source": [
    "#Elis Island\n",
    "#Here we are just Importing the necessary modules and\n",
    "import variables_cartpole as exp\n",
    "import numpy as np\n",
    "import scipy as sci\n",
    "from scipy.integrate import solve_ivp\n",
    "import matplotlib.pyplot as plt\n",
    "from pydmd import DMD\n",
    "from pydmd import DMDc\n",
    "import matplotlib.animation as animation\n",
    "import HBDMDC as mydmd\n",
    "import myfunctions as myfun\n",
    "\n",
    "#Plotting configuration\n",
    "np.set_printoptions(precision=5, suppress=True)\n",
    "plt.style.use('bmh')\n",
    "figsize = (12, 10)\n",
    "figsize2 = (12, 5)\n",
    "dpi = 600    # Resolution in dots per inch\n",
    "\n",
    "# System measurements\n",
    "m = exp.m\n",
    "M = exp.M\n",
    "g = exp.g\n",
    "l = exp.l\n",
    "t_span = exp.t_span\n",
    "dt = exp.dt\n",
    "b = exp.b\n",
    "K = exp.K\n",
    "B = exp.B\n",
    "#B = np.array([[0],[1/(m*l**2)]])\n",
    "nvar = int(exp.nvari)\n",
    "polyorder = int(exp.order)\n",
    "sineorder = int(exp.sine)\n",
    "duration = 30"
   ],
   "metadata": {
    "collapsed": false,
    "pycharm": {
     "name": "#%%\n"
    }
   }
  },
  {
   "cell_type": "markdown",
   "source": [
    "Above we just imputed static characteristics for the system and the linearized SS model.\n",
    "The LQR derived gain is also imported as well as some of the lifting characteristics. In this specific\n",
    "example we are preparing to lift the state measurements using a {{$polyorder$}}\n",
    "order polynomial approximation and a {{$sineorder$}} Fourier approximation."
   ],
   "metadata": {
    "collapsed": false
   }
  },
  {
   "cell_type": "code",
   "execution_count": 11,
   "outputs": [
    {
     "ename": "ControlSlycot",
     "evalue": "can't find slycot module 'sb02md' or 'sb02nt'",
     "output_type": "error",
     "traceback": [
      "\u001B[1;31m---------------------------------------------------------------------------\u001B[0m",
      "\u001B[1;31mModuleNotFoundError\u001B[0m                       Traceback (most recent call last)",
      "\u001B[1;32m~\\AppData\\Local\\Programs\\Python\\Python39\\lib\\site-packages\\control\\statefbk.py\u001B[0m in \u001B[0;36mlqr\u001B[1;34m(*args, **keywords)\u001B[0m\n\u001B[0;32m    441\u001B[0m     \u001B[1;32mtry\u001B[0m\u001B[1;33m:\u001B[0m\u001B[1;33m\u001B[0m\u001B[1;33m\u001B[0m\u001B[0m\n\u001B[1;32m--> 442\u001B[1;33m         \u001B[1;32mfrom\u001B[0m \u001B[0mslycot\u001B[0m \u001B[1;32mimport\u001B[0m \u001B[0msb02md\u001B[0m\u001B[1;33m\u001B[0m\u001B[1;33m\u001B[0m\u001B[0m\n\u001B[0m\u001B[0;32m    443\u001B[0m         \u001B[1;32mfrom\u001B[0m \u001B[0mslycot\u001B[0m \u001B[1;32mimport\u001B[0m \u001B[0msb02mt\u001B[0m\u001B[1;33m\u001B[0m\u001B[1;33m\u001B[0m\u001B[0m\n",
      "\u001B[1;31mModuleNotFoundError\u001B[0m: No module named 'slycot'",
      "\nDuring handling of the above exception, another exception occurred:\n",
      "\u001B[1;31mControlSlycot\u001B[0m                             Traceback (most recent call last)",
      "\u001B[1;32m~\\AppData\\Local\\Temp/ipykernel_21116/4191905567.py\u001B[0m in \u001B[0;36m<module>\u001B[1;34m\u001B[0m\n\u001B[0;32m     16\u001B[0m \u001B[1;31m#from control.matlab import *\u001B[0m\u001B[1;33m\u001B[0m\u001B[1;33m\u001B[0m\u001B[1;33m\u001B[0m\u001B[0m\n\u001B[0;32m     17\u001B[0m \u001B[1;32mimport\u001B[0m \u001B[0mcontrol\u001B[0m\u001B[1;33m\u001B[0m\u001B[1;33m\u001B[0m\u001B[0m\n\u001B[1;32m---> 18\u001B[1;33m \u001B[0mKg\u001B[0m\u001B[1;33m,\u001B[0m \u001B[0mS\u001B[0m\u001B[1;33m,\u001B[0m \u001B[0mE\u001B[0m \u001B[1;33m=\u001B[0m \u001B[0mlqr\u001B[0m\u001B[1;33m(\u001B[0m\u001B[0mexp\u001B[0m\u001B[1;33m.\u001B[0m\u001B[0mA\u001B[0m\u001B[1;33m,\u001B[0m \u001B[0mexp\u001B[0m\u001B[1;33m.\u001B[0m\u001B[0mB\u001B[0m\u001B[1;33m,\u001B[0m \u001B[0mexp\u001B[0m\u001B[1;33m.\u001B[0m\u001B[0mQ\u001B[0m\u001B[1;33m,\u001B[0m \u001B[0mexp\u001B[0m\u001B[1;33m.\u001B[0m\u001B[0mR\u001B[0m\u001B[1;33m)\u001B[0m\u001B[1;33m\u001B[0m\u001B[1;33m\u001B[0m\u001B[0m\n\u001B[0m\u001B[0;32m     19\u001B[0m \u001B[0mprint\u001B[0m\u001B[1;33m(\u001B[0m\u001B[0mKg\u001B[0m\u001B[1;33m)\u001B[0m\u001B[1;33m\u001B[0m\u001B[1;33m\u001B[0m\u001B[0m\n\u001B[0;32m     20\u001B[0m \u001B[1;33m\u001B[0m\u001B[0m\n",
      "\u001B[1;32m~\\AppData\\Local\\Programs\\Python\\Python39\\lib\\site-packages\\control\\statefbk.py\u001B[0m in \u001B[0;36mlqr\u001B[1;34m(*args, **keywords)\u001B[0m\n\u001B[0;32m    443\u001B[0m         \u001B[1;32mfrom\u001B[0m \u001B[0mslycot\u001B[0m \u001B[1;32mimport\u001B[0m \u001B[0msb02mt\u001B[0m\u001B[1;33m\u001B[0m\u001B[1;33m\u001B[0m\u001B[0m\n\u001B[0;32m    444\u001B[0m     \u001B[1;32mexcept\u001B[0m \u001B[0mImportError\u001B[0m\u001B[1;33m:\u001B[0m\u001B[1;33m\u001B[0m\u001B[1;33m\u001B[0m\u001B[0m\n\u001B[1;32m--> 445\u001B[1;33m         \u001B[1;32mraise\u001B[0m \u001B[0mControlSlycot\u001B[0m\u001B[1;33m(\u001B[0m\u001B[1;34m\"can't find slycot module 'sb02md' or 'sb02nt'\"\u001B[0m\u001B[1;33m)\u001B[0m\u001B[1;33m\u001B[0m\u001B[1;33m\u001B[0m\u001B[0m\n\u001B[0m\u001B[0;32m    446\u001B[0m \u001B[1;33m\u001B[0m\u001B[0m\n\u001B[0;32m    447\u001B[0m     \u001B[1;31m#\u001B[0m\u001B[1;33m\u001B[0m\u001B[1;33m\u001B[0m\u001B[1;33m\u001B[0m\u001B[0m\n",
      "\u001B[1;31mControlSlycot\u001B[0m: can't find slycot module 'sb02md' or 'sb02nt'"
     ]
    }
   ],
   "source": [
    "#Initial Conditions and non-linear dynamics\n",
    "\n",
    "x0 = np.array([-1, 0.0,np.pi+.0001,0.])\n",
    "xf = np.array([1.0,0.,np.pi,0.])\n",
    "def f(t,xk):\n",
    "    Sy = np.sin(xk[2])\n",
    "    Cy = np.cos(xk[2])\n",
    "    D = m * l*l*(M+m * (1.0-Cy**2))\n",
    "    x_1 = xk[1]\n",
    "    x_2 = 1.0/D * (-m**2*l**2*g*Cy*Sy + (m*l**2)*(m*l*Sy*xk[3]**2))\n",
    "    u1 =  m*l*l*(1/D)*u(xk)\n",
    "    x_3 = xk[3]\n",
    "    x_4 = (1.0/D)*((m+M)*m*g*l*Sy - m*l*Cy*(m*l*Sy*xk[3]**2))\n",
    "    u2 = -m*l*Cy*(1.0/D)*u(xk)\n",
    "    return [x_1, x_2+u1,x_3, x_4+u2]\n",
    "#from control.matlab import *\n",
    "import control\n",
    "Kg, S, E = lqr(exp.A, exp.B, exp.Q, exp.R)\n",
    "print(Kg)"
   ],
   "metadata": {
    "collapsed": false,
    "pycharm": {
     "name": "#%%\n"
    }
   }
  },
  {
   "cell_type": "markdown",
   "source": [
    "Setup of initial & terminal conditions and definition of nonlinear dynamics for the pendulum system.\n",
    "Below we run an uncontrolled simulation with the initial conditions {{x0}}. This pendulum setup is undamped and should show a\n",
    "cyclic behavior which we will then use to feed the DMD algorithms and find the respective Koopman Operators. We will (probably)\n",
    "not use this specific data set to generate control laws for the system but we will use it as a sanity check for the fidelity\n",
    "of DMD constructed systems.\n",
    "u = lambda x: 0"
   ],
   "metadata": {
    "collapsed": false
   }
  },
  {
   "cell_type": "code",
   "execution_count": null,
   "outputs": [],
   "source": [
    "u = lambda x: 0\n",
    "#Uncontrol Simulation\n",
    "y0 = solve_ivp(f,[0.0,duration],x0,method='RK45',t_eval=t_span)\n",
    "#figure\n",
    "\n",
    "myfun.showstate(y0.y, t_span,'Uncontrolled Pendulum', figsize, dpi)"
   ],
   "metadata": {
    "collapsed": false,
    "pycharm": {
     "name": "#%%\n"
    }
   }
  },
  {
   "cell_type": "markdown",
   "source": [
    "Below we generate a controlled version of the above system. In this example we will be bringing the system to a terminal state of\n",
    "{{xf}}. This data will be fed through the DMD algorithms and eventually used to generate learned dynamics later.\n",
    "\n",
    "The method we will use to control this system initially to learn the Koopman dynamics is through a Linear Quadratic Regulator [(LQR)](https://en.wikipedia.org/wiki/Linear%E2%80%93quadratic_regulator)"
   ],
   "metadata": {
    "collapsed": false
   }
  },
  {
   "cell_type": "code",
   "execution_count": null,
   "outputs": [],
   "source": [
    "#Control Implementation\n",
    "u = lambda x: -np.matmul(K, (x - xf))\n",
    "y1 = solve_ivp(f,[0.0,duration],x0,method='RK45',t_eval=t_span)\n",
    "\n",
    "myfun.showstate(y1.y, t_span,'Controlled Pendulum', figsize, dpi)\n",
    "\n",
    "#recording control input\n",
    "\n",
    "findu = y1.y\n",
    "u = np.zeros(int(len(t_span)-1))\n",
    "unull = np.zeros(int(len(t_span)-1))\n",
    "for o in range(int(len(t_span)-1)):\n",
    "    ynow = findu[:,o]\n",
    "    u[o] = -np.matmul(K,(ynow-xf))\n",
    "u.resize((1,int(len(t_span)-1)),refcheck=False)\n",
    "unull.resize((1,int(len(t_span)-1)),refcheck=False)\n",
    "plt.figure(figsize=figsize2, dpi=dpi)\n",
    "plt.title(\"LQR Generated Control Signal\")\n",
    "plt.plot(u[0,:])\n",
    "plt.xlabel(r\"$t$ [ms]\")\n",
    "plt.ylabel(r\"u\")\n",
    "plt.show()"
   ],
   "metadata": {
    "collapsed": false,
    "pycharm": {
     "name": "#%%\n"
    }
   }
  },
  {
   "cell_type": "markdown",
   "source": [
    "The control is implimented via the function $u = -K(x-x_f)$ where $u$ is the control signal, $x$ is the current state, $x_f$ is the desired state and $K$ is the\n",
    "gain found through LQR. The above figure is the control signal following the LQR control law imposed on the pendulum system.\n",
    "\n",
    "Below we will use the [DMD](https://mathlab.github.io/PyDMD/index.html) algorithm to find the Koopman operator of the\n",
    "uncontrolled system using the data from the non-linear model. For this run we will not be truncating the data.\n",
    "<details>\n",
    "<summary> DMD Algorithm </summary>\n",
    "    Starting with the systems $x_{k+1} = Ax_k$ and a set of 2 consecutive snap shots $X$ and $X'$ of the format\n",
    "\n",
    "    1. Take singular value decomposition (SVD) of $X$ <br>\n",
    "        $$ \\bf{\\mathbf{X}} \\approx U \\Sigma V^* $$\n",
    "        where $*$ denotees the conjugate transpose, $U \\in \\mathbb{R}^{n\\times r}$, $\\Sigma \\in \\mathbb{R}^{r\\times r}$ and $V \\in \\mathbb{R}^{n\\times r}$\n",
    "        $r$ is the rank of the reduced SVD approximation to $X$. In SVD, the columns of $U$ are orthonormal and are POD Modes.\n",
    "        > Some notes on SVD: The SVD reduction in this equation is exploited at this stage in the algorithm to perform a low-rank truncation of the data; if within the data there is a low-dimensional structure the singular values of $\\Sigma$ will rapidly decrease to zero with a finite low number of dominant nodes\n",
    "    2. The matrix $A$ is then found by the pseudoinverse of $X$ obtained via the SVD:\n",
    "        $$ A\\approx \\Bar{A} =& \\bf{\\mathbf{X}}'\\tilde{V}\\tilde{\\Sigma}^{-1}\\tilde{U}^* $$\n",
    "        Here the matrix $A\\approx$ defines a \"low-dimensional\" linear model of the dynamical system on the POD coordinates:\n",
    "        $$\\tilde{\\mathbf{x}}_{k+1} =& \\tilde{A}\\tilde{\\mathbf{x}}_k $$\n",
    "    3. Now perform the eigendecomposition of $A\\approx$:\n",
    "        $$ AW = W\\mathbf{\\Lambda} $$\n",
    "        Here the columns of $W$ are the eigenvectors and $\\Lambda$ is a diagonal matrix containing the corresponding eigenvalues\n",
    "    4. This step is not so necessary to this application but for completion it will be included. To reconstruct the eigendecomposition of $A$ we will use $W$ and $\\Lambda$. Since we have the eigenvalues of $A$ to find the corresponding eigenvectors of $A$ (these are the DMD modes!!) we use the folloing equation for $Phi$:\n",
    "        $$\\math{\\Phi} =& \\math{X}'\\mathbf{V\\Sigma}^{-1}\\mathbf{W}$$\n",
    "\n",
    "\n",
    "</details>"
   ],
   "metadata": {
    "collapsed": false
   }
  },
  {
   "cell_type": "code",
   "execution_count": null,
   "outputs": [],
   "source": [
    "#print(t_span)\n",
    "ybase = y0.y\n",
    "[A1, Phi1, Xdmd1] = mydmd.mydmd(ybase, 4, dt)\n",
    "\n",
    "[y2] = myfun.buildlinsys(A1,B, ybase[:,0], unull, t_span)\n",
    "#y2 = Y2.resize((len(ybase), len(ybase[1])), refcheck=False)\n",
    "# y2test= np.real(Xdmd)\n",
    "myfun.comparestates(ybase,Xdmd1,t_span,'Testing','Original','Reconstructed',figsize, dpi)"
   ],
   "metadata": {
    "collapsed": false,
    "pycharm": {
     "name": "#%%\n"
    }
   }
  },
  {
   "cell_type": "markdown",
   "source": [
    "Something is clearly wrong with state 2 despite correct A matrix, investigation is in order\n",
    "\n",
    "Now going to perform regular dmd on controlled data"
   ],
   "metadata": {
    "collapsed": false
   }
  },
  {
   "cell_type": "code",
   "execution_count": null,
   "outputs": [],
   "source": [
    "ybase = y1.y\n",
    "[A2, Phi2, Xdmd2] = mydmd.mydmd(ybase, 4, dt)\n",
    "\n",
    "[y3] = myfun.buildlinsys(A2,B, ybase[:,0], unull, t_span)\n",
    "\n",
    "myfun.comparestates(ybase,Xdmd2,t_span,'Controlled Pendulum States','Original','Reconstructed',figsize, dpi)"
   ],
   "metadata": {
    "collapsed": false,
    "pycharm": {
     "name": "#%%\n"
    }
   }
  },
  {
   "cell_type": "markdown",
   "source": [
    "Now to DMDC"
   ],
   "metadata": {
    "collapsed": false
   }
  },
  {
   "cell_type": "code",
   "execution_count": null,
   "outputs": [],
   "source": [
    "ybase = y1.y\n",
    "[A3, B3, Phi3, Xdmd3] = mydmd.myDMDcUB(ybase, u, 4, 1, dt)\n",
    "[y4] = myfun.buildlinsys(A3,B3, ybase[:,0], u, t_span)\n",
    "\n",
    "#y4.resize((len(ybase), len(ybase[1])), refcheck=False)\n",
    "myfun.comparestates(ybase,y4,t_span,'Testing','Original','Reconstructed',figsize,dpi)"
   ],
   "metadata": {
    "collapsed": false,
    "pycharm": {
     "name": "#%%\n"
    }
   }
  },
  {
   "cell_type": "markdown",
   "source": [
    "We can see the reconstructed state diverging rapidly. This is similar to my MATLAB result but the scaling is quite off\n",
    "\n",
    "Now I will move on to EDMDc"
   ],
   "metadata": {
    "collapsed": false
   }
  },
  {
   "cell_type": "code",
   "execution_count": null,
   "outputs": [],
   "source": [
    "indata = y0.y\n",
    "y3 = myfun.pool(indata.T,nvar,polyorder,0)\n",
    "q = np.size(y3,1)\n",
    "[A4, Phi4, Xdmd4] = mydmd.mydmd(y3.T, q, dt)"
   ],
   "metadata": {
    "collapsed": false,
    "pycharm": {
     "name": "#%%\n"
    }
   }
  },
  {
   "cell_type": "code",
   "execution_count": null,
   "outputs": [],
   "source": [
    "myfun.comparestates(y3.T,Xdmd4,t_span,'Testing','Original','Reconstructed',figsize,dpi)"
   ],
   "metadata": {
    "collapsed": false,
    "pycharm": {
     "name": "#%%\n"
    }
   }
  },
  {
   "cell_type": "markdown",
   "source": [
    "Now performing Edmd on controlled data"
   ],
   "metadata": {
    "collapsed": false
   }
  },
  {
   "cell_type": "code",
   "execution_count": null,
   "outputs": [],
   "source": [
    "indata = y1.y\n",
    "y4 = myfun.pool(indata.T,nvar,polyorder,0)\n",
    "q = np.size(y4,1)\n",
    "\n",
    "[A5, Phi5, Xdmd5] = mydmd.mydmd(y4.T, q, dt)\n",
    "myfun.comparestates(y4.T,Xdmd5,t_span,'Testing','Original','Reconstructed',figsize,dpi)"
   ],
   "metadata": {
    "collapsed": false,
    "pycharm": {
     "name": "#%%\n"
    }
   }
  },
  {
   "cell_type": "markdown",
   "source": [
    "The plot looks like th ereconstructed time is 1 step ahead of the real data but that could just be a response to the slightly smaller\n",
    "data set\n",
    "\n",
    "EDMDc Time\n",
    "Edmdc using zeros!!!"
   ],
   "metadata": {
    "collapsed": false
   }
  },
  {
   "cell_type": "code",
   "execution_count": null,
   "outputs": [],
   "source": [
    "nulctrl = np.zeros((np.size(u,0),np.size(u,1)))\n",
    "indata = y0.y\n",
    "y5 = myfun.pool(indata.T,nvar,polyorder,0)\n",
    "q = np.size(y5,1)\n",
    "\n",
    "[A6,B6,Phi6, Xdmd6] = mydmd.myDMDcUB(y5.T,nulctrl,q,1,dt)\n",
    "# [A3, B3, Phi3, Xdmd3] = mydmd.myDMDcUB(ybase, u, 2, 1, dt)\n",
    "myfun.comparestates(y5.T,Xdmd6,t_span,'Testing','Original','Reconstructed',figsize,dpi)"
   ],
   "metadata": {
    "collapsed": false,
    "pycharm": {
     "name": "#%%\n"
    }
   }
  },
  {
   "cell_type": "code",
   "execution_count": null,
   "outputs": [],
   "source": [
    "Y0 = y5.T[:,0]\n",
    "# print(np.size(Y0))\n",
    "# print((np.size(y5,1)))\n",
    "# Y0.resize((np.size(y5,1),1),refcheck=False)\n",
    "Y5 = myfun.buildlinsys(A6,B6, Y0,nulctrl,t_span)\n",
    "n = np.size(A6,1)\n",
    "m = np.size(t_span,0)\n",
    "Y = np.zeros((n,m-1))\n",
    "Y1 = np.zeros((n,m-1),dtype=complex)\n",
    "Y[:, 0] = Y0\n",
    "Y1[:,0] = Xdmd6[:,0]\n",
    "for i in range(0, m - 2):\n",
    "    Y[:, i + 1] = A6 @ Y[:, i] + B6 @ nulctrl[:, i]\n",
    "    Y1[:,i+1] = Xdmd6[:,i] + B6 @ nulctrl[:,i]\n",
    "# myfun.showstate(Y,t_span,'Building EDMDc',figsize,dpi)\n",
    "myfun.comparestates(Y1,Y,t_span,'EDMDc on 0 Ctrl','XDMD','Ax + Bu',figsize,dpi)"
   ],
   "metadata": {
    "collapsed": false,
    "pycharm": {
     "name": "#%%\n"
    }
   }
  },
  {
   "cell_type": "markdown",
   "source": [
    "EDMDc with of controlled data"
   ],
   "metadata": {
    "collapsed": false
   }
  },
  {
   "cell_type": "code",
   "execution_count": null,
   "outputs": [],
   "source": [
    "ndata = y1.y\n",
    "y6 = myfun.pool(indata.T,nvar,polyorder,0)\n",
    "q = np.size(y6,1)\n",
    "\n",
    "[A7,B7,Phi7, Xdmd7] = mydmd.myDMDcUB(y6.T,u,q,1,dt)\n",
    "# [A3, B3, Phi3, Xdmd3] = mydmd.myDMDcUB(ybase, u, 2, 1, dt)\n",
    "myfun.comparestates(y6.T,Xdmd7,t_span,'Testing','Original','Reconstructed',figsize,dpi)"
   ],
   "metadata": {
    "collapsed": false,
    "pycharm": {
     "name": "#%%\n"
    }
   }
  },
  {
   "cell_type": "code",
   "execution_count": null,
   "outputs": [],
   "source": [
    "Y0 = y6.T[:,0]\n",
    "# print(np.size(Y0))\n",
    "# print((np.size(y5,1)))\n",
    "# Y0.resize((np.size(y5,1),1),refcheck=False)\n",
    "# Y5 = myfun.buildlinsys(A6,B6, Y0,nulctrl,t_span)\n",
    "n = np.size(A7,1)\n",
    "m = np.size(t_span,0)\n",
    "Y3 = np.zeros((n,m-1))\n",
    "Y4 = np.zeros((n,m-1),dtype=complex)\n",
    "Y3[:, 0] = Y0\n",
    "Y4[:,0] = Xdmd6[:,0]\n",
    "for i in range(0, m - 2):\n",
    "    Y3[:, i + 1] = A7 @ Y3[:, i] + B7 @ u[:, i]\n",
    "    Y4[:,i+1] = Xdmd7[:,i] + B7 @ u[:,i]\n",
    "# myfun.showstate(Y,t_span,'Building EDMDc',figsize,dpi)\n",
    "myfun.comparestates(Y4,Y3,t_span,'EDMDc on lqr Ctrl','XDMD','Ax + Bu',figsize,dpi)\n",
    "myfun.comparestates(y6.T,Y4,t_span,'EDMDc on lqr Ctrl','Lifted Base State','XDMD + Bu',figsize,dpi)"
   ],
   "metadata": {
    "collapsed": false,
    "pycharm": {
     "name": "#%%\n"
    }
   }
  }
 ],
 "metadata": {
  "kernelspec": {
   "display_name": "Python 3",
   "language": "python",
   "name": "python3"
  },
  "language_info": {
   "codemirror_mode": {
    "name": "ipython",
    "version": 2
   },
   "file_extension": ".py",
   "mimetype": "text/x-python",
   "name": "python",
   "nbconvert_exporter": "python",
   "pygments_lexer": "ipython2",
   "version": "2.7.6"
  },
  "pycharm": {
   "stem_cell": {
    "cell_type": "raw",
    "source": [
     "\n",
     "# Application of Dynamic Mode Decomposition (DMD), DMD with Control (DMDc) and Extended DMDc (EDMDc)\n",
     "\n",
     "Here we will be running a simple setup of DMD, DMDc, EDMD and EDMDc on a simple pendulum setup. This will be the base environment we will be using for determining the effacicy of using DMD to approximate the Koopman Operator for this simple mechanical system\n"
    ],
    "metadata": {
     "collapsed": false
    }
   }
  }
 },
 "nbformat": 4,
 "nbformat_minor": 0
}
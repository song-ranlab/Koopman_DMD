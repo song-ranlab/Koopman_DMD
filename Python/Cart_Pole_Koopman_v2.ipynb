{
 "cells": [
  {
   "cell_type": "markdown",
   "metadata": {},
   "source": [
    "# Application of Dynamic Mode Decomposition (DMD), DMD with Control (DMDc) and Extended DMDc (EDMDc)\n",
    "\n",
    "Here we will be running a simple setup of DMD, DMDc, EDMD and EDMDc on an Inverted Pendulum setup. This will be the base environment we will be using for determining the effacicy of using DMD to approximate the Koopman Operator for this simple mechanical system"
   ]
  },
  {
   "cell_type": "code",
   "execution_count": 1,
   "metadata": {
    "pycharm": {
     "name": "#%%\n"
    }
   },
   "outputs": [
    {
     "name": "stdout",
     "output_type": "stream",
     "text": [
      "[[-10.     -40.7584 512.9406 199.6643]]\n"
     ]
    }
   ],
   "source": [
    "#Elis Island\n",
    "#Here we are just Importing the necessary modules and\n",
    "import variables_cartpole as exp\n",
    "import numpy as np\n",
    "from scipy.integrate import solve_ivp\n",
    "import matplotlib.pyplot as plt\n",
    "from IPython.display import Markdown as md\n",
    "from pydmd import DMD\n",
    "from pydmd import DMDc\n",
    "import poolData\n",
    "import matplotlib.animation as animation\n",
    "plt.rcParams['animation.ffmpeg_path'] = '/usr/local/bin/ffmpeg'\n",
    "\n",
    "#Plotting configuration\n",
    "np.set_printoptions(precision=5, suppress=True)\n",
    "plt.style.use('bmh')\n",
    "figsize = (12, 5)\n",
    "dpi = 600    # Resolution in dots per inch\n",
    "\n",
    "# System measurements\n",
    "m = exp.m\n",
    "M = exp.M\n",
    "g = exp.g\n",
    "l = exp.l\n",
    "t_span = exp.t_span\n",
    "b = exp.b\n",
    "d =0\n",
    "K = exp.K\n",
    "Blin = exp.B\n",
    "B = np.array([[0],[1/(m*l**2)]])\n",
    "nvar = int(exp.nvari)\n",
    "polyorder = int(exp.order)\n",
    "sineorder = int(exp.sine)\n",
    "print(K)\n",
    "duration = int(exp.duration)"
   ]
  },
  {
   "cell_type": "markdown",
   "metadata": {
    "pycharm": {
     "name": "#%% md\n"
    }
   },
   "source": [
    "Above we just imputed static characteristics for the system and the linearized SS model.\n",
    "The LQR derived gain is also imported as well as some of the lifting characteristics. In this specific\n",
    "example we are preparing to lift the state measurements using a {{$polyorder$}}\n",
    "order polynomial approximation and a {{$sineorder$}} Fourier approximation."
   ]
  },
  {
   "cell_type": "code",
   "execution_count": 2,
   "metadata": {
    "pycharm": {
     "name": "#%%\n"
    }
   },
   "outputs": [],
   "source": [
    "x0 = np.array([-1., 0., np.pi+0.00001, 0.0])\n",
    "xf = np.array([1.0,0.0,np.pi,0.])\n",
    "\n",
    "def f(t, xk):\n",
    "    Sy = np.sin(xk[2])\n",
    "    Cy = np.cos(xk[2])\n",
    "    D = m * l*l*(M+m * (1.0-Cy**2))\n",
    "    x_1 = xk[1]\n",
    "    x_2 = 1.0/D * (-m**2*l**2*g*Cy*Sy + m*l**2*(m*l*xk[3]**2*Sy))\n",
    "    u1 =  m*l*l*(1/D)*u(xk)\n",
    "    x_3 = xk[3]\n",
    "    x_4 = (1.0/D)*((m+M)*m*g*l*Sy - m*l*Cy*(m*l*xk[3]**2*Sy))\n",
    "    u2 = -m*l*Cy*(1.0/D)*u(xk)\n",
    "    return [x_1, x_2+u1,x_3, x_4+u2]"
   ]
  },
  {
   "cell_type": "markdown",
   "metadata": {
    "pycharm": {
     "name": "#%% md\n"
    }
   },
   "source": [
    "Setup of initial & terminal conditions and definition of nonlinear dynamics for the pendulum system.\n",
    "Below we run an uncontrolled simulation with the initial conditions {{x0}}. This pendulum setup is undamped and should show a\n",
    "cyclic behavior which we will then use to feed the DMD algorithms and find the respective Koopman Operators. We will (probably)\n",
    "not use this specific data set to generate control laws for the system but we will use it as a sanity check for the fidelity\n",
    "of DMD constructed systems."
   ]
  },
  {
   "cell_type": "code",
   "execution_count": 3,
   "metadata": {
    "pycharm": {
     "name": "#%%\n"
    }
   },
   "outputs": [],
   "source": [
    "u = lambda x: 0\n",
    "#Uncontrol Simulation\n",
    "y0 = solve_ivp(f,[0.0,duration],x0,method='RK45',t_eval=t_span)\n",
    "#figure\n",
    "\n",
    "# plt.figure(figsize=figsize, dpi=dpi)\n",
    "# plt.title(\"Angular position and rate\")\n",
    "# plt.plot(t_span,y0.y[0,:],'b-',label = r'$\\theta$ - [Rad]')\n",
    "# plt.plot(t_span,y0.y[1,:],'r--',label = r'$\\dot{\\theta}$ - [Rad/s]')\n",
    "# plt.xlabel(r\"$t$, [s]\")\n",
    "# plt.ylabel(r\"State\")\n",
    "# plt.legend(loc='best')\n",
    "# plt.show()"
   ]
  },
  {
   "cell_type": "markdown",
   "metadata": {
    "pycharm": {
     "name": "#%% md\n"
    }
   },
   "source": [
    "Below we generate a controlled version of the above system. In this example we will be bringing the system to a terminal state of\n",
    "{{xf}}. This data will be fed through the DMD algorithms and eventually used to generate learned dynamics later.\n",
    "\n",
    "The method we will use to control this system initially to learn the Koopman dynamics is through a Linear Quadratic Regulator [(LQR)](https://en.wikipedia.org/wiki/Linear%E2%80%93quadratic_regulator)"
   ]
  },
  {
   "cell_type": "code",
   "execution_count": 4,
   "metadata": {
    "pycharm": {
     "name": "#%%\n"
    },
    "scrolled": true
   },
   "outputs": [
    {
     "ename": "KeyboardInterrupt",
     "evalue": "",
     "output_type": "error",
     "traceback": [
      "\u001B[1;31m---------------------------------------------------------------------------\u001B[0m",
      "\u001B[1;31mKeyboardInterrupt\u001B[0m                         Traceback (most recent call last)",
      "\u001B[1;32m<ipython-input-4-fd56f155de1d>\u001B[0m in \u001B[0;36m<module>\u001B[1;34m\u001B[0m\n\u001B[0;32m      1\u001B[0m \u001B[1;31m#Control Implementation\u001B[0m\u001B[1;33m\u001B[0m\u001B[1;33m\u001B[0m\u001B[1;33m\u001B[0m\u001B[0m\n\u001B[0;32m      2\u001B[0m \u001B[0mu\u001B[0m \u001B[1;33m=\u001B[0m \u001B[1;32mlambda\u001B[0m \u001B[0mx\u001B[0m\u001B[1;33m:\u001B[0m \u001B[1;33m-\u001B[0m\u001B[0mnp\u001B[0m\u001B[1;33m.\u001B[0m\u001B[0mmatmul\u001B[0m\u001B[1;33m(\u001B[0m\u001B[0mK\u001B[0m\u001B[1;33m,\u001B[0m \u001B[1;33m(\u001B[0m\u001B[0mx\u001B[0m \u001B[1;33m-\u001B[0m \u001B[0mxf\u001B[0m\u001B[1;33m)\u001B[0m\u001B[1;33m)\u001B[0m\u001B[1;33m\u001B[0m\u001B[1;33m\u001B[0m\u001B[0m\n\u001B[1;32m----> 3\u001B[1;33m \u001B[0my1\u001B[0m \u001B[1;33m=\u001B[0m \u001B[0msolve_ivp\u001B[0m\u001B[1;33m(\u001B[0m\u001B[0mf\u001B[0m\u001B[1;33m,\u001B[0m\u001B[1;33m[\u001B[0m\u001B[1;36m0.0\u001B[0m\u001B[1;33m,\u001B[0m\u001B[0mduration\u001B[0m\u001B[1;33m]\u001B[0m\u001B[1;33m,\u001B[0m\u001B[0mx0\u001B[0m\u001B[1;33m,\u001B[0m\u001B[0mmethod\u001B[0m\u001B[1;33m=\u001B[0m\u001B[1;34m'RK45'\u001B[0m\u001B[1;33m,\u001B[0m\u001B[0mt_eval\u001B[0m\u001B[1;33m=\u001B[0m\u001B[0mt_span\u001B[0m\u001B[1;33m)\u001B[0m\u001B[1;33m\u001B[0m\u001B[1;33m\u001B[0m\u001B[0m\n\u001B[0m\u001B[0;32m      4\u001B[0m \u001B[1;31m#figure\u001B[0m\u001B[1;33m\u001B[0m\u001B[1;33m\u001B[0m\u001B[1;33m\u001B[0m\u001B[0m\n\u001B[0;32m      5\u001B[0m \u001B[1;31m# plt.figure(figsize=figsize, dpi=dpi)\u001B[0m\u001B[1;33m\u001B[0m\u001B[1;33m\u001B[0m\u001B[1;33m\u001B[0m\u001B[0m\n",
      "\u001B[1;32mc:\\python\\lib\\site-packages\\scipy\\integrate\\_ivp\\ivp.py\u001B[0m in \u001B[0;36msolve_ivp\u001B[1;34m(fun, t_span, y0, method, t_eval, dense_output, events, vectorized, args, **options)\u001B[0m\n\u001B[0;32m    574\u001B[0m     \u001B[0mstatus\u001B[0m \u001B[1;33m=\u001B[0m \u001B[1;32mNone\u001B[0m\u001B[1;33m\u001B[0m\u001B[1;33m\u001B[0m\u001B[0m\n\u001B[0;32m    575\u001B[0m     \u001B[1;32mwhile\u001B[0m \u001B[0mstatus\u001B[0m \u001B[1;32mis\u001B[0m \u001B[1;32mNone\u001B[0m\u001B[1;33m:\u001B[0m\u001B[1;33m\u001B[0m\u001B[1;33m\u001B[0m\u001B[0m\n\u001B[1;32m--> 576\u001B[1;33m         \u001B[0mmessage\u001B[0m \u001B[1;33m=\u001B[0m \u001B[0msolver\u001B[0m\u001B[1;33m.\u001B[0m\u001B[0mstep\u001B[0m\u001B[1;33m(\u001B[0m\u001B[1;33m)\u001B[0m\u001B[1;33m\u001B[0m\u001B[1;33m\u001B[0m\u001B[0m\n\u001B[0m\u001B[0;32m    577\u001B[0m \u001B[1;33m\u001B[0m\u001B[0m\n\u001B[0;32m    578\u001B[0m         \u001B[1;32mif\u001B[0m \u001B[0msolver\u001B[0m\u001B[1;33m.\u001B[0m\u001B[0mstatus\u001B[0m \u001B[1;33m==\u001B[0m \u001B[1;34m'finished'\u001B[0m\u001B[1;33m:\u001B[0m\u001B[1;33m\u001B[0m\u001B[1;33m\u001B[0m\u001B[0m\n",
      "\u001B[1;32mc:\\python\\lib\\site-packages\\scipy\\integrate\\_ivp\\base.py\u001B[0m in \u001B[0;36mstep\u001B[1;34m(self)\u001B[0m\n\u001B[0;32m    179\u001B[0m         \u001B[1;32melse\u001B[0m\u001B[1;33m:\u001B[0m\u001B[1;33m\u001B[0m\u001B[1;33m\u001B[0m\u001B[0m\n\u001B[0;32m    180\u001B[0m             \u001B[0mt\u001B[0m \u001B[1;33m=\u001B[0m \u001B[0mself\u001B[0m\u001B[1;33m.\u001B[0m\u001B[0mt\u001B[0m\u001B[1;33m\u001B[0m\u001B[1;33m\u001B[0m\u001B[0m\n\u001B[1;32m--> 181\u001B[1;33m             \u001B[0msuccess\u001B[0m\u001B[1;33m,\u001B[0m \u001B[0mmessage\u001B[0m \u001B[1;33m=\u001B[0m \u001B[0mself\u001B[0m\u001B[1;33m.\u001B[0m\u001B[0m_step_impl\u001B[0m\u001B[1;33m(\u001B[0m\u001B[1;33m)\u001B[0m\u001B[1;33m\u001B[0m\u001B[1;33m\u001B[0m\u001B[0m\n\u001B[0m\u001B[0;32m    182\u001B[0m \u001B[1;33m\u001B[0m\u001B[0m\n\u001B[0;32m    183\u001B[0m             \u001B[1;32mif\u001B[0m \u001B[1;32mnot\u001B[0m \u001B[0msuccess\u001B[0m\u001B[1;33m:\u001B[0m\u001B[1;33m\u001B[0m\u001B[1;33m\u001B[0m\u001B[0m\n",
      "\u001B[1;32mc:\\python\\lib\\site-packages\\scipy\\integrate\\_ivp\\rk.py\u001B[0m in \u001B[0;36m_step_impl\u001B[1;34m(self)\u001B[0m\n\u001B[0;32m    142\u001B[0m             \u001B[0mh_abs\u001B[0m \u001B[1;33m=\u001B[0m \u001B[0mnp\u001B[0m\u001B[1;33m.\u001B[0m\u001B[0mabs\u001B[0m\u001B[1;33m(\u001B[0m\u001B[0mh\u001B[0m\u001B[1;33m)\u001B[0m\u001B[1;33m\u001B[0m\u001B[1;33m\u001B[0m\u001B[0m\n\u001B[0;32m    143\u001B[0m \u001B[1;33m\u001B[0m\u001B[0m\n\u001B[1;32m--> 144\u001B[1;33m             y_new, f_new = rk_step(self.fun, t, y, self.f, h, self.A,\n\u001B[0m\u001B[0;32m    145\u001B[0m                                    self.B, self.C, self.K)\n\u001B[0;32m    146\u001B[0m             \u001B[0mscale\u001B[0m \u001B[1;33m=\u001B[0m \u001B[0matol\u001B[0m \u001B[1;33m+\u001B[0m \u001B[0mnp\u001B[0m\u001B[1;33m.\u001B[0m\u001B[0mmaximum\u001B[0m\u001B[1;33m(\u001B[0m\u001B[0mnp\u001B[0m\u001B[1;33m.\u001B[0m\u001B[0mabs\u001B[0m\u001B[1;33m(\u001B[0m\u001B[0my\u001B[0m\u001B[1;33m)\u001B[0m\u001B[1;33m,\u001B[0m \u001B[0mnp\u001B[0m\u001B[1;33m.\u001B[0m\u001B[0mabs\u001B[0m\u001B[1;33m(\u001B[0m\u001B[0my_new\u001B[0m\u001B[1;33m)\u001B[0m\u001B[1;33m)\u001B[0m \u001B[1;33m*\u001B[0m \u001B[0mrtol\u001B[0m\u001B[1;33m\u001B[0m\u001B[1;33m\u001B[0m\u001B[0m\n",
      "\u001B[1;32mc:\\python\\lib\\site-packages\\scipy\\integrate\\_ivp\\rk.py\u001B[0m in \u001B[0;36mrk_step\u001B[1;34m(fun, t, y, f, h, A, B, C, K)\u001B[0m\n\u001B[0;32m     62\u001B[0m     \u001B[1;32mfor\u001B[0m \u001B[0ms\u001B[0m\u001B[1;33m,\u001B[0m \u001B[1;33m(\u001B[0m\u001B[0ma\u001B[0m\u001B[1;33m,\u001B[0m \u001B[0mc\u001B[0m\u001B[1;33m)\u001B[0m \u001B[1;32min\u001B[0m \u001B[0menumerate\u001B[0m\u001B[1;33m(\u001B[0m\u001B[0mzip\u001B[0m\u001B[1;33m(\u001B[0m\u001B[0mA\u001B[0m\u001B[1;33m[\u001B[0m\u001B[1;36m1\u001B[0m\u001B[1;33m:\u001B[0m\u001B[1;33m]\u001B[0m\u001B[1;33m,\u001B[0m \u001B[0mC\u001B[0m\u001B[1;33m[\u001B[0m\u001B[1;36m1\u001B[0m\u001B[1;33m:\u001B[0m\u001B[1;33m]\u001B[0m\u001B[1;33m)\u001B[0m\u001B[1;33m,\u001B[0m \u001B[0mstart\u001B[0m\u001B[1;33m=\u001B[0m\u001B[1;36m1\u001B[0m\u001B[1;33m)\u001B[0m\u001B[1;33m:\u001B[0m\u001B[1;33m\u001B[0m\u001B[1;33m\u001B[0m\u001B[0m\n\u001B[0;32m     63\u001B[0m         \u001B[0mdy\u001B[0m \u001B[1;33m=\u001B[0m \u001B[0mnp\u001B[0m\u001B[1;33m.\u001B[0m\u001B[0mdot\u001B[0m\u001B[1;33m(\u001B[0m\u001B[0mK\u001B[0m\u001B[1;33m[\u001B[0m\u001B[1;33m:\u001B[0m\u001B[0ms\u001B[0m\u001B[1;33m]\u001B[0m\u001B[1;33m.\u001B[0m\u001B[0mT\u001B[0m\u001B[1;33m,\u001B[0m \u001B[0ma\u001B[0m\u001B[1;33m[\u001B[0m\u001B[1;33m:\u001B[0m\u001B[0ms\u001B[0m\u001B[1;33m]\u001B[0m\u001B[1;33m)\u001B[0m \u001B[1;33m*\u001B[0m \u001B[0mh\u001B[0m\u001B[1;33m\u001B[0m\u001B[1;33m\u001B[0m\u001B[0m\n\u001B[1;32m---> 64\u001B[1;33m         \u001B[0mK\u001B[0m\u001B[1;33m[\u001B[0m\u001B[0ms\u001B[0m\u001B[1;33m]\u001B[0m \u001B[1;33m=\u001B[0m \u001B[0mfun\u001B[0m\u001B[1;33m(\u001B[0m\u001B[0mt\u001B[0m \u001B[1;33m+\u001B[0m \u001B[0mc\u001B[0m \u001B[1;33m*\u001B[0m \u001B[0mh\u001B[0m\u001B[1;33m,\u001B[0m \u001B[0my\u001B[0m \u001B[1;33m+\u001B[0m \u001B[0mdy\u001B[0m\u001B[1;33m)\u001B[0m\u001B[1;33m\u001B[0m\u001B[1;33m\u001B[0m\u001B[0m\n\u001B[0m\u001B[0;32m     65\u001B[0m \u001B[1;33m\u001B[0m\u001B[0m\n\u001B[0;32m     66\u001B[0m     \u001B[0my_new\u001B[0m \u001B[1;33m=\u001B[0m \u001B[0my\u001B[0m \u001B[1;33m+\u001B[0m \u001B[0mh\u001B[0m \u001B[1;33m*\u001B[0m \u001B[0mnp\u001B[0m\u001B[1;33m.\u001B[0m\u001B[0mdot\u001B[0m\u001B[1;33m(\u001B[0m\u001B[0mK\u001B[0m\u001B[1;33m[\u001B[0m\u001B[1;33m:\u001B[0m\u001B[1;33m-\u001B[0m\u001B[1;36m1\u001B[0m\u001B[1;33m]\u001B[0m\u001B[1;33m.\u001B[0m\u001B[0mT\u001B[0m\u001B[1;33m,\u001B[0m \u001B[0mB\u001B[0m\u001B[1;33m)\u001B[0m\u001B[1;33m\u001B[0m\u001B[1;33m\u001B[0m\u001B[0m\n",
      "\u001B[1;32mc:\\python\\lib\\site-packages\\scipy\\integrate\\_ivp\\base.py\u001B[0m in \u001B[0;36mfun\u001B[1;34m(t, y)\u001B[0m\n\u001B[0;32m    136\u001B[0m         \u001B[1;32mdef\u001B[0m \u001B[0mfun\u001B[0m\u001B[1;33m(\u001B[0m\u001B[0mt\u001B[0m\u001B[1;33m,\u001B[0m \u001B[0my\u001B[0m\u001B[1;33m)\u001B[0m\u001B[1;33m:\u001B[0m\u001B[1;33m\u001B[0m\u001B[1;33m\u001B[0m\u001B[0m\n\u001B[0;32m    137\u001B[0m             \u001B[0mself\u001B[0m\u001B[1;33m.\u001B[0m\u001B[0mnfev\u001B[0m \u001B[1;33m+=\u001B[0m \u001B[1;36m1\u001B[0m\u001B[1;33m\u001B[0m\u001B[1;33m\u001B[0m\u001B[0m\n\u001B[1;32m--> 138\u001B[1;33m             \u001B[1;32mreturn\u001B[0m \u001B[0mself\u001B[0m\u001B[1;33m.\u001B[0m\u001B[0mfun_single\u001B[0m\u001B[1;33m(\u001B[0m\u001B[0mt\u001B[0m\u001B[1;33m,\u001B[0m \u001B[0my\u001B[0m\u001B[1;33m)\u001B[0m\u001B[1;33m\u001B[0m\u001B[1;33m\u001B[0m\u001B[0m\n\u001B[0m\u001B[0;32m    139\u001B[0m \u001B[1;33m\u001B[0m\u001B[0m\n\u001B[0;32m    140\u001B[0m         \u001B[0mself\u001B[0m\u001B[1;33m.\u001B[0m\u001B[0mfun\u001B[0m \u001B[1;33m=\u001B[0m \u001B[0mfun\u001B[0m\u001B[1;33m\u001B[0m\u001B[1;33m\u001B[0m\u001B[0m\n",
      "\u001B[1;32mc:\\python\\lib\\site-packages\\scipy\\integrate\\_ivp\\base.py\u001B[0m in \u001B[0;36mfun_wrapped\u001B[1;34m(t, y)\u001B[0m\n\u001B[0;32m     18\u001B[0m \u001B[1;33m\u001B[0m\u001B[0m\n\u001B[0;32m     19\u001B[0m     \u001B[1;32mdef\u001B[0m \u001B[0mfun_wrapped\u001B[0m\u001B[1;33m(\u001B[0m\u001B[0mt\u001B[0m\u001B[1;33m,\u001B[0m \u001B[0my\u001B[0m\u001B[1;33m)\u001B[0m\u001B[1;33m:\u001B[0m\u001B[1;33m\u001B[0m\u001B[1;33m\u001B[0m\u001B[0m\n\u001B[1;32m---> 20\u001B[1;33m         \u001B[1;32mreturn\u001B[0m \u001B[0mnp\u001B[0m\u001B[1;33m.\u001B[0m\u001B[0masarray\u001B[0m\u001B[1;33m(\u001B[0m\u001B[0mfun\u001B[0m\u001B[1;33m(\u001B[0m\u001B[0mt\u001B[0m\u001B[1;33m,\u001B[0m \u001B[0my\u001B[0m\u001B[1;33m)\u001B[0m\u001B[1;33m,\u001B[0m \u001B[0mdtype\u001B[0m\u001B[1;33m=\u001B[0m\u001B[0mdtype\u001B[0m\u001B[1;33m)\u001B[0m\u001B[1;33m\u001B[0m\u001B[1;33m\u001B[0m\u001B[0m\n\u001B[0m\u001B[0;32m     21\u001B[0m \u001B[1;33m\u001B[0m\u001B[0m\n\u001B[0;32m     22\u001B[0m     \u001B[1;32mreturn\u001B[0m \u001B[0mfun_wrapped\u001B[0m\u001B[1;33m,\u001B[0m \u001B[0my0\u001B[0m\u001B[1;33m\u001B[0m\u001B[1;33m\u001B[0m\u001B[0m\n",
      "\u001B[1;32m<ipython-input-2-01ccf078d74f>\u001B[0m in \u001B[0;36mf\u001B[1;34m(t, xk)\u001B[0m\n\u001B[0;32m      8\u001B[0m     \u001B[0mx_1\u001B[0m \u001B[1;33m=\u001B[0m \u001B[0mxk\u001B[0m\u001B[1;33m[\u001B[0m\u001B[1;36m1\u001B[0m\u001B[1;33m]\u001B[0m\u001B[1;33m\u001B[0m\u001B[1;33m\u001B[0m\u001B[0m\n\u001B[0;32m      9\u001B[0m     \u001B[0mx_2\u001B[0m \u001B[1;33m=\u001B[0m \u001B[1;36m1.0\u001B[0m\u001B[1;33m/\u001B[0m\u001B[0mD\u001B[0m \u001B[1;33m*\u001B[0m \u001B[1;33m(\u001B[0m\u001B[1;33m-\u001B[0m\u001B[0mm\u001B[0m\u001B[1;33m**\u001B[0m\u001B[1;36m2\u001B[0m\u001B[1;33m*\u001B[0m\u001B[0ml\u001B[0m\u001B[1;33m**\u001B[0m\u001B[1;36m2\u001B[0m\u001B[1;33m*\u001B[0m\u001B[0mg\u001B[0m\u001B[1;33m*\u001B[0m\u001B[0mCy\u001B[0m\u001B[1;33m*\u001B[0m\u001B[0mSy\u001B[0m \u001B[1;33m+\u001B[0m \u001B[0mm\u001B[0m\u001B[1;33m*\u001B[0m\u001B[0ml\u001B[0m\u001B[1;33m**\u001B[0m\u001B[1;36m2\u001B[0m\u001B[1;33m*\u001B[0m\u001B[1;33m(\u001B[0m\u001B[0mm\u001B[0m\u001B[1;33m*\u001B[0m\u001B[0ml\u001B[0m\u001B[1;33m*\u001B[0m\u001B[0mxk\u001B[0m\u001B[1;33m[\u001B[0m\u001B[1;36m3\u001B[0m\u001B[1;33m]\u001B[0m\u001B[1;33m**\u001B[0m\u001B[1;36m2\u001B[0m\u001B[1;33m*\u001B[0m\u001B[0mSy\u001B[0m\u001B[1;33m)\u001B[0m\u001B[1;33m)\u001B[0m\u001B[1;33m\u001B[0m\u001B[1;33m\u001B[0m\u001B[0m\n\u001B[1;32m---> 10\u001B[1;33m     \u001B[0mu1\u001B[0m \u001B[1;33m=\u001B[0m  \u001B[0mm\u001B[0m\u001B[1;33m*\u001B[0m\u001B[0ml\u001B[0m\u001B[1;33m*\u001B[0m\u001B[0ml\u001B[0m\u001B[1;33m*\u001B[0m\u001B[1;33m(\u001B[0m\u001B[1;36m1\u001B[0m\u001B[1;33m/\u001B[0m\u001B[0mD\u001B[0m\u001B[1;33m)\u001B[0m\u001B[1;33m*\u001B[0m\u001B[0mu\u001B[0m\u001B[1;33m(\u001B[0m\u001B[0mxk\u001B[0m\u001B[1;33m)\u001B[0m\u001B[1;33m\u001B[0m\u001B[1;33m\u001B[0m\u001B[0m\n\u001B[0m\u001B[0;32m     11\u001B[0m     \u001B[0mx_3\u001B[0m \u001B[1;33m=\u001B[0m \u001B[0mxk\u001B[0m\u001B[1;33m[\u001B[0m\u001B[1;36m3\u001B[0m\u001B[1;33m]\u001B[0m\u001B[1;33m\u001B[0m\u001B[1;33m\u001B[0m\u001B[0m\n\u001B[0;32m     12\u001B[0m     \u001B[0mx_4\u001B[0m \u001B[1;33m=\u001B[0m \u001B[1;33m(\u001B[0m\u001B[1;36m1.0\u001B[0m\u001B[1;33m/\u001B[0m\u001B[0mD\u001B[0m\u001B[1;33m)\u001B[0m\u001B[1;33m*\u001B[0m\u001B[1;33m(\u001B[0m\u001B[1;33m(\u001B[0m\u001B[0mm\u001B[0m\u001B[1;33m+\u001B[0m\u001B[0mM\u001B[0m\u001B[1;33m)\u001B[0m\u001B[1;33m*\u001B[0m\u001B[0mm\u001B[0m\u001B[1;33m*\u001B[0m\u001B[0mg\u001B[0m\u001B[1;33m*\u001B[0m\u001B[0ml\u001B[0m\u001B[1;33m*\u001B[0m\u001B[0mSy\u001B[0m \u001B[1;33m-\u001B[0m \u001B[0mm\u001B[0m\u001B[1;33m*\u001B[0m\u001B[0ml\u001B[0m\u001B[1;33m*\u001B[0m\u001B[0mCy\u001B[0m\u001B[1;33m*\u001B[0m\u001B[1;33m(\u001B[0m\u001B[0mm\u001B[0m\u001B[1;33m*\u001B[0m\u001B[0ml\u001B[0m\u001B[1;33m*\u001B[0m\u001B[0mxk\u001B[0m\u001B[1;33m[\u001B[0m\u001B[1;36m3\u001B[0m\u001B[1;33m]\u001B[0m\u001B[1;33m**\u001B[0m\u001B[1;36m2\u001B[0m\u001B[1;33m*\u001B[0m\u001B[0mSy\u001B[0m\u001B[1;33m)\u001B[0m\u001B[1;33m)\u001B[0m\u001B[1;33m\u001B[0m\u001B[1;33m\u001B[0m\u001B[0m\n",
      "\u001B[1;31mKeyboardInterrupt\u001B[0m: "
     ]
    }
   ],
   "source": [
    "#Control Implementation\n",
    "u = lambda x: -np.matmul(K, (x - xf))\n",
    "y1 = solve_ivp(f,[0.0,duration],x0,method='RK45',t_eval=t_span)\n",
    "#figure\n",
    "# plt.figure(figsize=figsize, dpi=dpi)\n",
    "# plt.title(\"Controlled Angular position and rate\")\n",
    "# plt.plot(t_span,y1.y[0,:],'b-',label = r'$\\theta$ - [Rad]')\n",
    "# plt.plot(t_span,y1.y[1,:],'r--',label = r'$\\dot{\\theta}$ - [Rad/s]')\n",
    "# plt.xlabel(r\"$t$, [s]\")\n",
    "# plt.ylabel(r\"State\")\n",
    "# plt.legend(loc='best')\n",
    "# plt.show()\n",
    "y = int(len(t_span))-1\n",
    "ctrl2 = np.zeros(y)\n",
    "ctrl3 = np. zeros((2,y))\n",
    "yt = y1.y\n",
    "for o in range(y):\n",
    "    ynow = yt[:,o]\n",
    "    ctrl2[o] = -np.matmul(K,(ynow-xf))\n",
    "    #dip = B*ctrl2[o]\n",
    "    ctrl3[1,o] = ctrl2[o]\n",
    "plt.figure(figsize=figsize, dpi=dpi)\n",
    "plt.title(\"LQR Generated Control Signal\")\n",
    "plt.plot(ctrl2)\n",
    "plt.xlabel(r\"$t$, [s]\")\n",
    "plt.ylabel(r\"u\")\n",
    "plt.show()"
   ]
  },
  {
   "cell_type": "markdown",
   "metadata": {
    "pycharm": {
     "name": "#%% md\n"
    }
   },
   "source": [
    "The control is implimented via the function $u = -K(x-x_f)$ where $u$ is the control signal, $x$ is the current state, $x_f$ is the desired state and $K$ is the\n",
    "gain found through LQR. The above figure is the control signal following the LQR control law imposed on the pendulum system.\n",
    "\n",
    "Below we will use the [DMD](https://mathlab.github.io/PyDMD/index.html) algorithm to find the Koopman operator of the\n",
    "uncontrolled system using the data from the non-linear model. For this run we will not be truncating the data.\n",
    "<details>\n",
    "<summary> DMD Algorithm </summary>\n",
    "    Starting with the systems $x_{k+1} = Ax_k$ and a set of 2 consecutive snap shots $X$ and $X'$ of the format\n",
    "\n",
    "    1. Take singular value decomposition (SVD) of $X$ <br>\n",
    "        $$ \\bf{\\mathbf{X}} \\approx U \\Sigma V^* $$\n",
    "        where $*$ denotees the conjugate transpose, $U \\in \\mathbb{R}^{n\\times r}$, $\\Sigma \\in \\mathbb{R}^{r\\times r}$ and $V \\in \\mathbb{R}^{n\\times r}$\n",
    "        $r$ is the rank of the reduced SVD approximation to $X$. In SVD, the columns of $U$ are orthonormal and are POD Modes.\n",
    "        > Some notes on SVD: The SVD reduction in this equation is exploited at this stage in the algorithm to perform a low-rank truncation of the data; if within the data there is a low-dimensional structure the singular values of $\\Sigma$ will rapidly decrease to zero with a finite low number of dominant nodes\n",
    "    2. The matrix $A$ is then found by the pseudoinverse of $X$ obtained via the SVD:\n",
    "        $$ A\\approx \\Bar{A} =& \\bf{\\mathbf{X}}'\\tilde{V}\\tilde{\\Sigma}^{-1}\\tilde{U}^* $$\n",
    "        Here the matrix $A\\approx$ defines a \"low-dimensional\" linear model of the dynamical system on the POD coordinates:\n",
    "        $$\\tilde{\\mathbf{x}}_{k+1} =& \\tilde{A}\\tilde{\\mathbf{x}}_k $$\n",
    "    3. Now perform the eigendecomposition of $A\\approx$:\n",
    "        $$ AW = W\\mathbf{\\Lambda} $$\n",
    "        Here the columns of $W$ are the eigenvectors and $\\Lambda$ is a diagonal matrix containing the corresponding eigenvalues\n",
    "    4. This step is not so necessary to this application but for completion it will be included. To reconstruct the eigendecomposition of $A$ we will use $W$ and $\\Lambda$. Since we have the eigenvalues of $A$ to find the corresponding eigenvectors of $A$ (these are the DMD modes!!) we use the folloing equation for $Phi$:\n",
    "        $$\\math{\\Phi} =& \\math{X}'\\mathbf{V\\Sigma}^{-1}\\mathbf{W}$$\n",
    "\n",
    "\n",
    "</details>"
   ]
  },
  {
   "cell_type": "code",
   "execution_count": null,
   "metadata": {
    "pycharm": {
     "name": "#%%\n"
    }
   },
   "outputs": [],
   "source": [
    "#DMD Time\n",
    "dmd1 = DMD(svd_rank=-1, exact = True)\n",
    "dmd1.fit(y0.y)\n",
    "Atilde1 = dmd1.atilde\n",
    "print('The A matrix defined by the Koopman Operator found by this method is: {}'.format(Atilde1))\n",
    "\n",
    "for eig in dmd1.eigs:\n",
    "    print('Eigenvalue {}: distance from unit circle {}'.format(eig, np.abs(eig.imag**2+eig.real**2 - 1)))\n",
    "\n",
    "dmd1.plot_eigs(show_axes=True, show_unit_circle=True)\n",
    "\n",
    "\n",
    "s1, s2, s3, s4 = np.vsplit(dmd1.reconstructed_data.real,4)\n",
    "s1 = s1.T\n",
    "s2 = s2.T\n",
    "s3 = s3.T\n",
    "s4 = s4.T\n",
    "plt.figure(figsize=figsize, dpi=dpi)\n",
    "plt.subplot(121)\n",
    "plt.title(\"Reconstructed  position and rate\")\n",
    "plt.plot(t_span,y0.y[0,:],'g-',label = r' Original X - [m]')\n",
    "plt.plot(t_span,y0.y[1,:],'m-',label = r' Original $\\dot{X}$ - [m/s]')\n",
    "plt.plot(t_span,s1,'b--',label = r' Reconstruct $X$ - [m]')\n",
    "plt.plot(t_span,s2,'k--',label = r' Reconstruct$\\dot{\\X}$ - [m/s]')\n",
    "plt.xlabel(r\"$t$, [s]\")\n",
    "plt.ylabel(r\"State\")\n",
    "plt.legend(loc='best')\n",
    "plt.subplot(122)\n",
    "plt.title(\"Reconstructed Angular position and rate\")\n",
    "plt.plot(t_span,y0.y[2,:],'g-',label = r' Original $\\theta$ - [Rad]')\n",
    "plt.plot(t_span,y0.y[3,:],'m-',label = r' Original $\\dot{\\theta}$ - [Rad/s]')\n",
    "plt.plot(t_span,s3,'b--',label = r' Reconstruct $\\theta$ - [Rad]')\n",
    "plt.plot(t_span,s4,'k--',label = r' Reconstruct$\\dot{\\theta}$ - [Rad/s]')\n",
    "\n",
    "plt.xlabel(r\"$t$, [s]\")\n",
    "plt.ylabel(r\"State\")\n",
    "plt.legend(loc='best')\n",
    "plt.show()"
   ]
  },
  {
   "cell_type": "markdown",
   "metadata": {
    "pycharm": {
     "name": "#%% md\n"
    }
   },
   "source": [
    "We can see a pretty good match between the original and reconstructed data. Will run error analysis later.\n",
    "## REMEMBER ERROR ANALYSIS EVEN IF YOU THINK ITS USELESS!!!!!!\n",
    "\n",
    "\n",
    "Now we will perform the same procedure with the controled data to learn the new Koopman Operator for this dynamical system"
   ]
  },
  {
   "cell_type": "code",
   "execution_count": null,
   "metadata": {
    "pycharm": {
     "name": "#%%\n",
     "is_executing": true
    }
   },
   "outputs": [],
   "source": [
    "#DMD on Controlled States\n",
    "\n",
    "#DMD Time\n",
    "dmd2 = DMD(svd_rank=2, exact = True)\n",
    "dmd2.fit(y1.y)\n",
    "\n",
    "Atilde2 = dmd2.atilde\n",
    "print('The A matrix defined by the Koopman Operator found by this method is: {}'.format(Atilde2))\n",
    "\n",
    "for eig in dmd2.eigs:\n",
    "    print('Eigenvalue {}: distance from unit circle {}'.format(eig, np.abs(eig.imag**2+eig.real**2 - 1)))\n",
    "\n",
    "dmd2.plot_eigs(show_axes=True, show_unit_circle=True)\n",
    "\n",
    "s21, s22, s23, s24 = np.vsplit(dmd2.reconstructed_data.real,4)\n",
    "s21 = s21.T\n",
    "s22 = s22.T\n",
    "s23 = s23.T\n",
    "s24 = s24.T\n",
    "plt.figure(figsize=figsize, dpi=dpi)\n",
    "plt.subplot(121)\n",
    "plt.title(\"Reconstructed  position and rate\")\n",
    "plt.plot(t_span,y1.y[0,:],'g-',label = r' Original X - [m]')\n",
    "plt.plot(t_span,y1.y[1,:],'m-',label = r' Original $\\dot{X}$ - [m/s]')\n",
    "plt.plot(t_span,s21,'b--',label = r' Reconstruct $X$ - [m]')\n",
    "plt.plot(t_span,s22,'k--',label = r' Reconstruct$\\dot{\\X}$ - [m/s]')\n",
    "plt.xlabel(r\"$t$, [s]\")\n",
    "plt.ylabel(r\"State\")\n",
    "plt.legend(loc='best')\n",
    "plt.subplot(122)\n",
    "plt.title(\"Reconstructed Angular position and rate\")\n",
    "plt.plot(t_span,y1.y[2,:],'g-',label = r' Original $\\theta$ - [Rad]')\n",
    "plt.plot(t_span,y1.y[3,:],'m-',label = r' Original $\\dot{\\theta}$ - [Rad/s]')\n",
    "plt.plot(t_span,s23,'b--',label = r' Reconstruct $\\theta$ - [Rad]')\n",
    "plt.plot(t_span,s24,'k--',label = r' Reconstruct$\\dot{\\theta}$ - [Rad/s]')\n",
    "\n",
    "plt.xlabel(r\"$t$, [s]\")\n",
    "plt.ylabel(r\"State\")\n",
    "plt.legend(loc='best')\n",
    "plt.show()"
   ]
  },
  {
   "cell_type": "markdown",
   "source": [
    "## As before, remember to make some error analysis of the two sets of data\n",
    "\n",
    "Next we will go through putting the uncontrolled data through the DMDc algorithm. The control input for DMDc will be the\n",
    "an array of zeros. The reconstructed data for DMDc should be identical to DMD's in this test"
   ],
   "metadata": {
    "collapsed": false,
    "pycharm": {
     "name": "#%% md\n"
    }
   }
  },
  {
   "cell_type": "code",
   "execution_count": null,
   "outputs": [],
   "source": [
    "#DMDc on uncontrolled data\n",
    "ctrl1 = np.zeros((2,len(y0.y[0])-1))\n",
    "dmd1c = DMDc(svd_rank=-1)\n",
    "dmd1c.fit(y0.y,ctrl1,B)\n",
    "s1, s2 = np.vsplit(dmd1c.reconstructed_data(),4)\n",
    "s31 = s1.T\n",
    "s32 = s2.T\n",
    "plt.figure(figsize=figsize, dpi=dpi)\n",
    "plt.title(\"Reconstructed Angular position and rate\")\n",
    "#.plot(t_span,y0.y[0,:],'g-',label = r' Original $\\theta$ - [Rad]')\n",
    "#plt.plot(t_span,y0.y[1,:],'m-',label = r' Original $\\dot{\\theta}$ - [Rad/s]')\n",
    "plt.plot(t_span,s31,'b--',label = r' DMDc Reconstruct $\\theta$ - [Rad]')\n",
    "plt.plot(t_span,s32,'k--',label = r' DMDc Reconstruct$\\dot{\\theta}$ - [Rad/s]')\n",
    "plt.xlabel(r\"$t$, [s]\")\n",
    "plt.ylabel(r\"State\")\n",
    "plt.legend(loc='best')\n",
    "plt.show()\n"
   ],
   "metadata": {
    "collapsed": false,
    "pycharm": {
     "name": "#%%\n",
     "is_executing": true
    }
   }
  },
  {
   "cell_type": "markdown",
   "metadata": {
    "pycharm": {
     "name": "#%% md\n"
    }
   },
   "source": [
    "Weird..... This works in Matlab but not in Python. This is due to pydmdc.Atilde calculating the eigen values of the Gamma reconstruction. This is an issue since the last diagonal is zero in an uncontrolled Case. Matlab is ok with this but Python in not.\n",
    "So looks like pyDMD does not like inputing 0 control on the system\n",
    "\n",
    "Moving on to DMDc with the control data"
   ]
  },
  {
   "cell_type": "code",
   "execution_count": null,
   "outputs": [],
   "source": [
    "#DMDc on uncontrolled data\n",
    "\n",
    "dmd2c = DMDc(svd_rank=-1)\n",
    "dmd2c.fit(y1.y,ctrl2)\n",
    "print(dmd2c.B)\n",
    "print(dmd2c.atilde)\n",
    "s1, s2 = np.vsplit(dmd2c.reconstructed_data(),4)\n",
    "s41 = s1.T\n",
    "s42 = s2.T\n",
    "plt.figure(figsize=figsize, dpi=dpi)\n",
    "plt.title(\"Reconstructed Angular position and rate\")\n",
    "plt.plot(t_span,y0.y[0,:],'g-',label = r' Original $\\theta$ - [Rad]')\n",
    "plt.plot(t_span,y0.y[1,:],'m-',label = r' Original $\\dot{\\theta}$ - [Rad/s]')\n",
    "plt.plot(t_span,s41,'b--',label = r' DMDc Reconstruct $\\theta$ - [Rad]')\n",
    "plt.plot(t_span,s42,'k--',label = r' DMDc Reconstruct$\\dot{\\theta}$ - [Rad/s]')\n",
    "plt.xlabel(r\"$t$, [s]\")\n",
    "plt.ylabel(r\"State\")\n",
    "plt.legend(loc='best')\n",
    "plt.show()"
   ],
   "metadata": {
    "collapsed": false,
    "pycharm": {
     "name": "#%%\n",
     "is_executing": true
    }
   }
  },
  {
   "cell_type": "markdown",
   "source": [
    "We can see some issue with the DMDc on controlled state. As with the Matlab code it looks like there is not enough data to properly perform DMDc on either controlled and uncontrolle data in this case.\n",
    "\n",
    "Here we will make our 'lifting' function. In this example I will be using a pool data function from\n",
    " [\"Discovering Governing Equations from Data: Sparse Identification of Nonlinear Dynamical Systems\" by S. L. Brunton, J. L. Proctor, and J. N. Kutz](10.1073/pnas.1517384113)\n",
    "\n"
   ],
   "metadata": {
    "collapsed": false,
    "pycharm": {
     "name": "#%% md\n"
    }
   }
  },
  {
   "cell_type": "code",
   "execution_count": null,
   "metadata": {
    "pycharm": {
     "name": "#%%\n",
     "is_executing": true
    }
   },
   "outputs": [],
   "source": [
    "def pool(yin, nVars, porder, sorder):\n",
    "    if porder == 2:\n",
    "        col = nVars + (nVars*(nVars+1)/2)\n",
    "    elif porder ==3:\n",
    "        col = nVars + (nVars*(nVars+1)/2)+(nVars*(nVars+1)*(nVars+2)/(2*3))\n",
    "    elif porder >= 4:\n",
    "        col = nVars + (nVars*(nVars+1)/2)+(nVars*(nVars+1)*(nVars+2)/(2*3))+11 #might need to double check this algo l8r but simple test says A.OK\n",
    "    else:\n",
    "        col = nVars\n",
    "\n",
    "    if sorder > 0:\n",
    "        col = col + sorder * 2\n",
    "\n",
    "    yout = np.zeros((len(yin),int(col)))\n",
    "    ind = 0\n",
    "    for i in (0,nVars-1):#    poly order 1\n",
    "        #print(ind)\n",
    "        yout[:,ind] = yin[:,i]\n",
    "        ind = ind+1\n",
    "        #print('i is {}'.format(i))\n",
    "        if ind >= (col-1):\n",
    "            print('For loops failed, breaking out of this')\n",
    "            break\n",
    "    if porder >= 2: # poly order 2\n",
    "        for i in (0,nVars-1):\n",
    "            for j in (i,nVars-1):\n",
    "                #print('i is {}'.format(i))\n",
    "                #print('j is {}'.format(j))\n",
    "                #print(ind)\n",
    "                yout[:,ind] = yin[:,i]*yin[:,j]\n",
    "                ind = ind+1\n",
    "                #print(ind+10)\n",
    "                if ind >= (col-1):\n",
    "                    print('For loops failed, breaking out of this')\n",
    "                    break\n",
    "    if porder >=3: # poly order 3\n",
    "        for i in (0,nVars-1):\n",
    "            for j in (i,nVars-1):\n",
    "                for k in (j,nVars-1):\n",
    "                    yout[:,ind] = yin[:,i] * yin[:,j] * yin[:,k]\n",
    "                    ind = ind+1\n",
    "                    if ind >= (col-1):\n",
    "                        print('For loops failed, breaking out of this')\n",
    "                        break\n",
    "    if porder>=4: # poly order 4\n",
    "        for i in (0,nVars-1):\n",
    "            for j in (i,nVars-1):\n",
    "                for k in (j,nVars-1):\n",
    "                    for q in (k,nVars-1):\n",
    "                        yout[:,ind] = yin[:,i]*yin[:,j]*yin[:,k]*yin[:,q]\n",
    "                        ind = ind+1\n",
    "                        if ind >= (col-1):\n",
    "                            print('For loops failed, breaking out of this')\n",
    "                            break\n",
    "    if sorder >= 1:\n",
    "        for k in (0,sorder-1):\n",
    "            yout = np.matrix[yout, np.sin(k*yin), np.cos(k*yin)]\n",
    "    return yout"
   ]
  },
  {
   "cell_type": "code",
   "execution_count": null,
   "outputs": [],
   "source": [
    "#EDMD Time - Lets be cute and only try first order Fourier and order 2 Polynomial\n",
    "dmd3 = DMD(svd_rank=-1, exact = True)\n",
    "indata = y0.y\n",
    "y3 = pool(indata.T,nvar,polyorder,0)\n",
    "dmd3.fit(y3.T)\n",
    "for eig in dmd3.eigs:\n",
    "    print('Eigenvalue {}: distance from unit circle {}'.format(eig, np.abs(eig.imag**2+eig.real**2 - 1)))\n",
    "dmd3.plot_eigs(show_axes=True, show_unit_circle=True)\n",
    "s1 = dmd3.reconstructed_data.real[0,:]\n",
    "s2 = dmd3.reconstructed_data.real[1,:]\n",
    "s3 = dmd3.reconstructed_data.real[2,:]\n",
    "s4 = dmd3.reconstructed_data.real[3,:]\n",
    "plt.figure(figsize=figsize, dpi=dpi)\n",
    "plt.title(\"DMDc Reconstructed Uncontrolled Pendulum Angular position and rate\")\n",
    "plt.plot(t_span,y3[:,2],'g-',label = r' Original $\\theta$ - [Rad]')\n",
    "plt.plot(t_span,y3[:,3],'m-',label = r' Original $\\dot{\\theta}$ - [Rad/s]')\n",
    "plt.plot(t_span,s3,'b--',label = r' Reconstruct $\\theta$ - [Rad]')\n",
    "plt.plot(t_span,s4,'k--',label = r' Reconstruct$\\dot{\\theta}$ - [Rad/s]')\n",
    "\n",
    "plt.xlabel(r\"$t$, [s]\")\n",
    "plt.ylabel(r\"State\")\n",
    "plt.legend(loc='best')\n",
    "plt.show()"
   ],
   "metadata": {
    "collapsed": false,
    "pycharm": {
     "name": "#%%\n",
     "is_executing": true
    }
   }
  },
  {
   "cell_type": "code",
   "execution_count": null,
   "metadata": {
    "pycharm": {
     "name": "#%%\n",
     "is_executing": true
    }
   },
   "outputs": [],
   "source": [
    "dmd4 = DMD(svd_rank=-1, exact = True)\n",
    "indata = y1.y\n",
    "y4 = pool(indata.T,nvar,polyorder,0)\n",
    "dmd4.fit(y4.T)\n",
    "for eig in dmd4.eigs:\n",
    "    print('Eigenvalue {}: distance from unit circle {}'.format(eig, np.abs(eig.imag**2+eig.real**2 - 1)))\n",
    "dmd4.plot_eigs(show_axes=True, show_unit_circle=True)\n",
    "\n",
    "\n",
    "s1 = dmd4.reconstructed_data.real[0,:]\n",
    "s2 = dmd4.reconstructed_data.real[1,:]\n",
    "plt.figure(figsize=figsize, dpi=dpi)\n",
    "plt.title(\"DMDc Reconstructed Controlled Pendulum Angular position and rate\")\n",
    "plt.plot(t_span,y4[:,0],'g-',label = r' Original $\\theta$ - [Rad]')\n",
    "plt.plot(t_span,y4[:,1],'m-',label = r' Original $\\dot{\\theta}$ - [Rad/s]')\n",
    "plt.plot(t_span,s1,'b--',label = r' Reconstruct $\\theta$ - [Rad]')\n",
    "plt.plot(t_span,s2,'k--',label = r' Reconstruct$\\dot{\\theta}$ - [Rad/s]')\n",
    "plt.xlabel(r\"$t$, [s]\")\n",
    "plt.ylabel(r\"State\")\n",
    "plt.legend(loc='best')\n",
    "plt.show()"
   ]
  },
  {
   "cell_type": "markdown",
   "source": [
    "Now that we have looked at DMD, DMDc, and EDMD for controlled and uncontrolled pendulum dynamics we will move to EDMDc pendulum dynamics\n",
    "\n"
   ],
   "metadata": {
    "collapsed": false,
    "pycharm": {
     "name": "#%% md\n"
    }
   }
  }
 ],
 "metadata": {
  "kernelspec": {
   "display_name": "Python 3",
   "language": "python",
   "name": "python3"
  },
  "language_info": {
   "codemirror_mode": {
    "name": "ipython",
    "version": 3
   },
   "file_extension": ".py",
   "mimetype": "text/x-python",
   "name": "python",
   "nbconvert_exporter": "python",
   "pygments_lexer": "ipython3",
   "version": "3.9.5"
  }
 },
 "nbformat": 4,
 "nbformat_minor": 1
}
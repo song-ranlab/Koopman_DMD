{
 "cells": [
  {
   "cell_type": "code",
   "execution_count": 5,
   "metadata": {
    "collapsed": true
   },
   "outputs": [],
   "source": [
    "import numpy as np\n",
    "\n",
    "import scipy.signal as signal\n",
    "import scipy.linalg as linalg\n",
    "\n",
    "dt = 0.01 # timestep size\n",
    "l = 2.0 # arm length\n",
    "m = 1.0 # pendulum mass\n",
    "g = 9.81 # gravity acceleration\n",
    "b = 0 #Damping Factor\n",
    "duration = 10.0 # duration of simulation in seconds\n",
    "thresh = 0.0 # DMD Threshold: 0 for no truncation, <0 sets the eigen value minimum threshold, >0 sets the rank as long as thresh is lower than max rank\n",
    "x1_init = np.pi/4.0\n",
    "x2_init = 0.0\n",
    "x0 = [x1_init, x2_init]\n",
    "#x0 = np.matrix([x1_init],\n",
    "#                [x2_init]) # Initial conditions for pendulum simulation; theta, thetadot\n",
    "x1_fin = np.pi\n",
    "x2_fin = 0.0\n",
    "#xf = np.matrix([x1_fin],\n",
    "#                [x2_fin])\n",
    "xf = [x1_fin, x2_fin]\n",
    "steps = int(duration * 1.0 / dt)\n",
    "t_span = np.linspace(0.0, duration, steps)\n",
    "\n",
    "Qmod = 1.0\n",
    "R = 10.0  # Process Cost\n",
    "Qstat =([1.0, 0.1])\n",
    "Q = np.diag(Qstat) # Control Cost\n",
    "\n",
    "N = 20 # prediction horizon\n",
    "Nu = 20 # Control Horizon\n",
    "Ru = 1.0 # Control Cost\n",
    "\n",
    "nvar = 2\n",
    "order = 2\n",
    "sine = 0\n",
    "\n",
    "# linear system\n",
    "A = np.matrix([[0,1],\n",
    "               [-l/g,0]])\n",
    "B = np.matrix([[0],\n",
    "               [1/(m*l**2)]])\n",
    "\n",
    "\n",
    "P = np.matrix(linalg.solve_discrete_are(A, B, Q, R))\n",
    "K = np.matrix(linalg.inv(B.T*P*B+R)*(B.T*P*A))\n",
    "eigVals, eigVecs = linalg.eig(A-B*K)\n",
    "\n"
   ]
  }
 ],
 "metadata": {
  "kernelspec": {
   "display_name": "Python 3",
   "language": "python",
   "name": "python3"
  },
  "language_info": {
   "codemirror_mode": {
    "name": "ipython",
    "version": 2
   },
   "file_extension": ".py",
   "mimetype": "text/x-python",
   "name": "python",
   "nbconvert_exporter": "python",
   "pygments_lexer": "ipython2",
   "version": "2.7.6"
  }
 },
 "nbformat": 4,
 "nbformat_minor": 0
}
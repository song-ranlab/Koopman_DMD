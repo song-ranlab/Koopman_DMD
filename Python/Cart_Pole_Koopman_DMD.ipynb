{
 "cells": [
  {
   "cell_type": "code",
   "execution_count": 1,
   "metadata": {
    "collapsed": true
   },
   "outputs": [],
   "source": [
    "\n",
    "import variables_cartpole as exp\n",
    "#import control\n",
    "import numpy as np\n",
    "from scipy.integrate import solve_ivp\n",
    "import matplotlib.pyplot as plt\n",
    "plt.rcParams['animation.ffmpeg_path'] = '/usr/local/bin/ffmpeg'\n",
    "import matplotlib.animation as animation\n",
    "from pydmd import DMD\n",
    "from pydmd import DMDc\n",
    "\n",
    "\n",
    "np.set_printoptions(precision=5, suppress=True)\n",
    "plt.style.use('bmh')\n",
    "figsize = (12, 5)\n",
    "dpi = 600    # Resolution in dots per inch"
   ]
  },
  {
   "cell_type": "markdown",
   "source": [
    "# Application of Dynamic Mode Decomposition (DMD), DMD with Control (DMDc) and Extended DMDc (EDMDc)\n",
    "\n",
    "Here we will be running a simple setup of DMD, DMDc, EDMD and EDMDc on an Inverted Pendulum setup. This will be the base environment we will be using for determining the effacicy of using DMD to approximate the Koopman Operator for this simple mechanical system"
   ],
   "metadata": {
    "collapsed": false
   }
  },
  {
   "cell_type": "code",
   "execution_count": 2,
   "outputs": [
    {
     "name": "stdout",
     "output_type": "stream",
     "text": [
      "[[-10.     -40.7584 512.9406 199.6643]]\n"
     ]
    }
   ],
   "source": [
    "#Elis Island\n",
    "m = exp.m\n",
    "M = exp.M\n",
    "g = exp.g\n",
    "l = exp.l\n",
    "t_span = exp.t_span\n",
    "b = exp.b\n",
    "x0 = exp.x0\n",
    "d=0\n",
    "#x0=np.array([np.pi/4.0, 0.0])\n",
    "xf = exp.xf\n",
    "x_dt=np.array([0., 0.])\n",
    "K = exp.K\n",
    "print(K)\n",
    "duration = int(exp.duration)\n",
    "def f(xk,t):\n",
    "    Sy = np.sin(xk[2])\n",
    "    Cy = np.cos(xk[2])\n",
    "    D = m * l*l*(M+m * (1.0-Cy**2))\n",
    "    x_1 = xk[1]\n",
    "    x_2 = 1.0/D * (-m**2*l**2*g*Cy*Sy + m*l**2*(m*l*xk[3]**2*Sy))\n",
    "    u1 =  m*l*l*(1/D)*u(xk)\n",
    "    x_3 = xk[3]\n",
    "    x_4 = (1.0/D)*((m+M)*m*g*l*Sy - m*l*Cy*(m*l*xk[3]**2*Sy))\n",
    "    u2 = -m*l*Cy*(1.0/D)*u(xk)\n",
    "    return [x_1, x_2+u1,x_3, x_4+u2]"
   ],
   "metadata": {
    "collapsed": false,
    "pycharm": {
     "name": "#%%\n"
    }
   }
  },
  {
   "cell_type": "code",
   "execution_count": 3,
   "outputs": [
    {
     "ename": "TypeError",
     "evalue": "'float' object is not subscriptable",
     "output_type": "error",
     "traceback": [
      "\u001B[1;31m---------------------------------------------------------------------------\u001B[0m",
      "\u001B[1;31mTypeError\u001B[0m                                 Traceback (most recent call last)",
      "\u001B[1;32m<ipython-input-3-b52b5cc925eb>\u001B[0m in \u001B[0;36m<module>\u001B[1;34m\u001B[0m\n\u001B[0;32m      1\u001B[0m \u001B[0mu\u001B[0m \u001B[1;33m=\u001B[0m \u001B[1;32mlambda\u001B[0m \u001B[0mx\u001B[0m\u001B[1;33m:\u001B[0m \u001B[1;36m0\u001B[0m\u001B[1;33m\u001B[0m\u001B[1;33m\u001B[0m\u001B[0m\n\u001B[0;32m      2\u001B[0m \u001B[1;31m#Uncontrol Simulation\u001B[0m\u001B[1;33m\u001B[0m\u001B[1;33m\u001B[0m\u001B[1;33m\u001B[0m\u001B[0m\n\u001B[1;32m----> 3\u001B[1;33m \u001B[0my0\u001B[0m \u001B[1;33m=\u001B[0m \u001B[0msolve_ivp\u001B[0m\u001B[1;33m(\u001B[0m\u001B[0mf\u001B[0m\u001B[1;33m,\u001B[0m\u001B[0mx0\u001B[0m\u001B[1;33m,\u001B[0m\u001B[0mt_span\u001B[0m\u001B[1;33m)\u001B[0m\u001B[1;33m\u001B[0m\u001B[1;33m\u001B[0m\u001B[0m\n\u001B[0m\u001B[0;32m      4\u001B[0m \u001B[1;31m#figure\u001B[0m\u001B[1;33m\u001B[0m\u001B[1;33m\u001B[0m\u001B[1;33m\u001B[0m\u001B[0m\n\u001B[0;32m      5\u001B[0m \u001B[0mplt\u001B[0m\u001B[1;33m.\u001B[0m\u001B[0mfigure\u001B[0m\u001B[1;33m(\u001B[0m\u001B[0mfigsize\u001B[0m\u001B[1;33m=\u001B[0m\u001B[0mfigsize\u001B[0m\u001B[1;33m,\u001B[0m \u001B[0mdpi\u001B[0m\u001B[1;33m=\u001B[0m\u001B[0mdpi\u001B[0m\u001B[1;33m)\u001B[0m\u001B[1;33m\u001B[0m\u001B[1;33m\u001B[0m\u001B[0m\n",
      "\u001B[1;32mc:\\python\\lib\\site-packages\\scipy\\integrate\\_ivp\\ivp.py\u001B[0m in \u001B[0;36msolve_ivp\u001B[1;34m(fun, t_span, y0, method, t_eval, dense_output, events, vectorized, args, **options)\u001B[0m\n\u001B[0;32m    540\u001B[0m         \u001B[0mmethod\u001B[0m \u001B[1;33m=\u001B[0m \u001B[0mMETHODS\u001B[0m\u001B[1;33m[\u001B[0m\u001B[0mmethod\u001B[0m\u001B[1;33m]\u001B[0m\u001B[1;33m\u001B[0m\u001B[1;33m\u001B[0m\u001B[0m\n\u001B[0;32m    541\u001B[0m \u001B[1;33m\u001B[0m\u001B[0m\n\u001B[1;32m--> 542\u001B[1;33m     \u001B[0msolver\u001B[0m \u001B[1;33m=\u001B[0m \u001B[0mmethod\u001B[0m\u001B[1;33m(\u001B[0m\u001B[0mfun\u001B[0m\u001B[1;33m,\u001B[0m \u001B[0mt0\u001B[0m\u001B[1;33m,\u001B[0m \u001B[0my0\u001B[0m\u001B[1;33m,\u001B[0m \u001B[0mtf\u001B[0m\u001B[1;33m,\u001B[0m \u001B[0mvectorized\u001B[0m\u001B[1;33m=\u001B[0m\u001B[0mvectorized\u001B[0m\u001B[1;33m,\u001B[0m \u001B[1;33m**\u001B[0m\u001B[0moptions\u001B[0m\u001B[1;33m)\u001B[0m\u001B[1;33m\u001B[0m\u001B[1;33m\u001B[0m\u001B[0m\n\u001B[0m\u001B[0;32m    543\u001B[0m \u001B[1;33m\u001B[0m\u001B[0m\n\u001B[0;32m    544\u001B[0m     \u001B[1;32mif\u001B[0m \u001B[0mt_eval\u001B[0m \u001B[1;32mis\u001B[0m \u001B[1;32mNone\u001B[0m\u001B[1;33m:\u001B[0m\u001B[1;33m\u001B[0m\u001B[1;33m\u001B[0m\u001B[0m\n",
      "\u001B[1;32mc:\\python\\lib\\site-packages\\scipy\\integrate\\_ivp\\rk.py\u001B[0m in \u001B[0;36m__init__\u001B[1;34m(self, fun, t0, y0, t_bound, max_step, rtol, atol, vectorized, first_step, **extraneous)\u001B[0m\n\u001B[0;32m     92\u001B[0m         \u001B[0mself\u001B[0m\u001B[1;33m.\u001B[0m\u001B[0mmax_step\u001B[0m \u001B[1;33m=\u001B[0m \u001B[0mvalidate_max_step\u001B[0m\u001B[1;33m(\u001B[0m\u001B[0mmax_step\u001B[0m\u001B[1;33m)\u001B[0m\u001B[1;33m\u001B[0m\u001B[1;33m\u001B[0m\u001B[0m\n\u001B[0;32m     93\u001B[0m         \u001B[0mself\u001B[0m\u001B[1;33m.\u001B[0m\u001B[0mrtol\u001B[0m\u001B[1;33m,\u001B[0m \u001B[0mself\u001B[0m\u001B[1;33m.\u001B[0m\u001B[0matol\u001B[0m \u001B[1;33m=\u001B[0m \u001B[0mvalidate_tol\u001B[0m\u001B[1;33m(\u001B[0m\u001B[0mrtol\u001B[0m\u001B[1;33m,\u001B[0m \u001B[0matol\u001B[0m\u001B[1;33m,\u001B[0m \u001B[0mself\u001B[0m\u001B[1;33m.\u001B[0m\u001B[0mn\u001B[0m\u001B[1;33m)\u001B[0m\u001B[1;33m\u001B[0m\u001B[1;33m\u001B[0m\u001B[0m\n\u001B[1;32m---> 94\u001B[1;33m         \u001B[0mself\u001B[0m\u001B[1;33m.\u001B[0m\u001B[0mf\u001B[0m \u001B[1;33m=\u001B[0m \u001B[0mself\u001B[0m\u001B[1;33m.\u001B[0m\u001B[0mfun\u001B[0m\u001B[1;33m(\u001B[0m\u001B[0mself\u001B[0m\u001B[1;33m.\u001B[0m\u001B[0mt\u001B[0m\u001B[1;33m,\u001B[0m \u001B[0mself\u001B[0m\u001B[1;33m.\u001B[0m\u001B[0my\u001B[0m\u001B[1;33m)\u001B[0m\u001B[1;33m\u001B[0m\u001B[1;33m\u001B[0m\u001B[0m\n\u001B[0m\u001B[0;32m     95\u001B[0m         \u001B[1;32mif\u001B[0m \u001B[0mfirst_step\u001B[0m \u001B[1;32mis\u001B[0m \u001B[1;32mNone\u001B[0m\u001B[1;33m:\u001B[0m\u001B[1;33m\u001B[0m\u001B[1;33m\u001B[0m\u001B[0m\n\u001B[0;32m     96\u001B[0m             self.h_abs = select_initial_step(\n",
      "\u001B[1;32mc:\\python\\lib\\site-packages\\scipy\\integrate\\_ivp\\base.py\u001B[0m in \u001B[0;36mfun\u001B[1;34m(t, y)\u001B[0m\n\u001B[0;32m    136\u001B[0m         \u001B[1;32mdef\u001B[0m \u001B[0mfun\u001B[0m\u001B[1;33m(\u001B[0m\u001B[0mt\u001B[0m\u001B[1;33m,\u001B[0m \u001B[0my\u001B[0m\u001B[1;33m)\u001B[0m\u001B[1;33m:\u001B[0m\u001B[1;33m\u001B[0m\u001B[1;33m\u001B[0m\u001B[0m\n\u001B[0;32m    137\u001B[0m             \u001B[0mself\u001B[0m\u001B[1;33m.\u001B[0m\u001B[0mnfev\u001B[0m \u001B[1;33m+=\u001B[0m \u001B[1;36m1\u001B[0m\u001B[1;33m\u001B[0m\u001B[1;33m\u001B[0m\u001B[0m\n\u001B[1;32m--> 138\u001B[1;33m             \u001B[1;32mreturn\u001B[0m \u001B[0mself\u001B[0m\u001B[1;33m.\u001B[0m\u001B[0mfun_single\u001B[0m\u001B[1;33m(\u001B[0m\u001B[0mt\u001B[0m\u001B[1;33m,\u001B[0m \u001B[0my\u001B[0m\u001B[1;33m)\u001B[0m\u001B[1;33m\u001B[0m\u001B[1;33m\u001B[0m\u001B[0m\n\u001B[0m\u001B[0;32m    139\u001B[0m \u001B[1;33m\u001B[0m\u001B[0m\n\u001B[0;32m    140\u001B[0m         \u001B[0mself\u001B[0m\u001B[1;33m.\u001B[0m\u001B[0mfun\u001B[0m \u001B[1;33m=\u001B[0m \u001B[0mfun\u001B[0m\u001B[1;33m\u001B[0m\u001B[1;33m\u001B[0m\u001B[0m\n",
      "\u001B[1;32mc:\\python\\lib\\site-packages\\scipy\\integrate\\_ivp\\base.py\u001B[0m in \u001B[0;36mfun_wrapped\u001B[1;34m(t, y)\u001B[0m\n\u001B[0;32m     18\u001B[0m \u001B[1;33m\u001B[0m\u001B[0m\n\u001B[0;32m     19\u001B[0m     \u001B[1;32mdef\u001B[0m \u001B[0mfun_wrapped\u001B[0m\u001B[1;33m(\u001B[0m\u001B[0mt\u001B[0m\u001B[1;33m,\u001B[0m \u001B[0my\u001B[0m\u001B[1;33m)\u001B[0m\u001B[1;33m:\u001B[0m\u001B[1;33m\u001B[0m\u001B[1;33m\u001B[0m\u001B[0m\n\u001B[1;32m---> 20\u001B[1;33m         \u001B[1;32mreturn\u001B[0m \u001B[0mnp\u001B[0m\u001B[1;33m.\u001B[0m\u001B[0masarray\u001B[0m\u001B[1;33m(\u001B[0m\u001B[0mfun\u001B[0m\u001B[1;33m(\u001B[0m\u001B[0mt\u001B[0m\u001B[1;33m,\u001B[0m \u001B[0my\u001B[0m\u001B[1;33m)\u001B[0m\u001B[1;33m,\u001B[0m \u001B[0mdtype\u001B[0m\u001B[1;33m=\u001B[0m\u001B[0mdtype\u001B[0m\u001B[1;33m)\u001B[0m\u001B[1;33m\u001B[0m\u001B[1;33m\u001B[0m\u001B[0m\n\u001B[0m\u001B[0;32m     21\u001B[0m \u001B[1;33m\u001B[0m\u001B[0m\n\u001B[0;32m     22\u001B[0m     \u001B[1;32mreturn\u001B[0m \u001B[0mfun_wrapped\u001B[0m\u001B[1;33m,\u001B[0m \u001B[0my0\u001B[0m\u001B[1;33m\u001B[0m\u001B[1;33m\u001B[0m\u001B[0m\n",
      "\u001B[1;32m<ipython-input-2-cfc9bd219d8b>\u001B[0m in \u001B[0;36mf\u001B[1;34m(xk, t)\u001B[0m\n\u001B[0;32m     15\u001B[0m \u001B[0mduration\u001B[0m \u001B[1;33m=\u001B[0m \u001B[0mint\u001B[0m\u001B[1;33m(\u001B[0m\u001B[0mexp\u001B[0m\u001B[1;33m.\u001B[0m\u001B[0mduration\u001B[0m\u001B[1;33m)\u001B[0m\u001B[1;33m\u001B[0m\u001B[1;33m\u001B[0m\u001B[0m\n\u001B[0;32m     16\u001B[0m \u001B[1;32mdef\u001B[0m \u001B[0mf\u001B[0m\u001B[1;33m(\u001B[0m\u001B[0mxk\u001B[0m\u001B[1;33m,\u001B[0m\u001B[0mt\u001B[0m\u001B[1;33m)\u001B[0m\u001B[1;33m:\u001B[0m\u001B[1;33m\u001B[0m\u001B[1;33m\u001B[0m\u001B[0m\n\u001B[1;32m---> 17\u001B[1;33m     \u001B[0mSy\u001B[0m \u001B[1;33m=\u001B[0m \u001B[0mnp\u001B[0m\u001B[1;33m.\u001B[0m\u001B[0msin\u001B[0m\u001B[1;33m(\u001B[0m\u001B[0mxk\u001B[0m\u001B[1;33m[\u001B[0m\u001B[1;36m2\u001B[0m\u001B[1;33m]\u001B[0m\u001B[1;33m)\u001B[0m\u001B[1;33m\u001B[0m\u001B[1;33m\u001B[0m\u001B[0m\n\u001B[0m\u001B[0;32m     18\u001B[0m     \u001B[0mCy\u001B[0m \u001B[1;33m=\u001B[0m \u001B[0mnp\u001B[0m\u001B[1;33m.\u001B[0m\u001B[0mcos\u001B[0m\u001B[1;33m(\u001B[0m\u001B[0mxk\u001B[0m\u001B[1;33m[\u001B[0m\u001B[1;36m2\u001B[0m\u001B[1;33m]\u001B[0m\u001B[1;33m)\u001B[0m\u001B[1;33m\u001B[0m\u001B[1;33m\u001B[0m\u001B[0m\n\u001B[0;32m     19\u001B[0m     \u001B[0mD\u001B[0m \u001B[1;33m=\u001B[0m \u001B[0mm\u001B[0m \u001B[1;33m*\u001B[0m \u001B[0ml\u001B[0m\u001B[1;33m*\u001B[0m\u001B[0ml\u001B[0m\u001B[1;33m*\u001B[0m\u001B[1;33m(\u001B[0m\u001B[0mM\u001B[0m\u001B[1;33m+\u001B[0m\u001B[0mm\u001B[0m \u001B[1;33m*\u001B[0m \u001B[1;33m(\u001B[0m\u001B[1;36m1.0\u001B[0m\u001B[1;33m-\u001B[0m\u001B[0mCy\u001B[0m\u001B[1;33m**\u001B[0m\u001B[1;36m2\u001B[0m\u001B[1;33m)\u001B[0m\u001B[1;33m)\u001B[0m\u001B[1;33m\u001B[0m\u001B[1;33m\u001B[0m\u001B[0m\n",
      "\u001B[1;31mTypeError\u001B[0m: 'float' object is not subscriptable"
     ]
    }
   ],
   "source": [
    "u = lambda x: 0\n",
    "#Uncontrol Simulation\n",
    "y0 = solve_ivp(f,x0,t_span)\n",
    "#figure\n",
    "plt.figure(figsize=figsize, dpi=dpi)\n",
    "plt.title(\"Normal States\")\n",
    "plt.plot(t_span,y0[:,0],'b-',label = r'$X$ - [m]')\n",
    "plt.plot(t_span,y0[:,1],'r--',label = r'$\\dot{X}$ - [m/s]')\n",
    "plt.plot(t_span,y0[:,2],'m-',label = r'$\\theta$ - [Rad]')\n",
    "plt.plot(t_span,y0[:,3],'k--',label = r'$\\dot{\\theta}$ - [Rad/s]')\n",
    "plt.xlabel(r\"$t$, [s]\")\n",
    "plt.ylabel(r\"State\")\n",
    "plt.legend(loc='best')\n",
    "plt.show()"
   ],
   "metadata": {
    "collapsed": false,
    "pycharm": {
     "name": "#%%\n"
    }
   }
  },
  {
   "cell_type": "code",
   "execution_count": null,
   "outputs": [],
   "source": [
    "#Control Implementation\n",
    "#def u( t , x ):\n",
    "#    u_ = -np.matmul(K, (x - x0))\n",
    "#    print(u_)\n",
    "#    return u_[0]\n",
    "u = lambda x: -np.matmul(K, (x - xf))\n",
    "y1 = solve_ivp(f, x0, t_span)\n",
    "#y2 = solve_ivp(f, [0, duration],[np.pi/4 , 0.], t_eval = np.linspace(0,10,1000) )\n",
    "#figure\n",
    "plt.figure(figsize=figsize, dpi=dpi)\n",
    "plt.title(\"Controlled Normal States\")\n",
    "plt.plot(t_span,y0[:,0],'b-',label = r'$X$ - [m]')\n",
    "plt.plot(t_span,y0[:,1],'r--',label = r'$\\dot{X}$ - [m/s]')\n",
    "plt.plot(t_span,y0[:,2],'m-',label = r'$\\theta$ - [Rad]')\n",
    "plt.plot(t_span,y0[:,3],'k--',label = r'$\\dot{\\theta}$ - [Rad/s]')\n",
    "plt.xlabel(r\"$t$, [s]\")\n",
    "plt.ylabel(r\"State\")\n",
    "plt.legend(loc='best')\n",
    "plt.show()\n",
    "y = int(len(y1))\n",
    "ctrl2 = np.zeros(y)\n",
    "yt = y1.T\n",
    "for i in range(y):\n",
    "    ynow = yt[:,i]\n",
    "    ctrl2[i] = -np.matmul(K,(ynow-xf))\n",
    "plt.figure(figsize=figsize, dpi=dpi)\n",
    "plt.title(\"LQR Generated Control Signal\")\n",
    "plt.plot(t_span,ctrl2)\n",
    "plt.xlabel(r\"$t$, [s]\")\n",
    "plt.ylabel(r\"u\")\n",
    "plt.show()#Th"
   ],
   "metadata": {
    "collapsed": false,
    "pycharm": {
     "name": "#%%\n"
    }
   }
  },
  {
   "cell_type": "code",
   "execution_count": null,
   "outputs": [],
   "source": [
    "#DMD Time\n",
    "dmd1 = DMD(svd_rank=2, exact = True)\n",
    "dmd1.fit(y0.T)\n",
    "for eig in dmd1.eigs:\n",
    "    print('Eigenvalue {}: distance from unit circle {}'.format(eig, np.abs(eig.imag**2+eig.real**2 - 1)))\n",
    "\n",
    "dmd1.plot_eigs(show_axes=True, show_unit_circle=True)\n",
    "\n",
    "\n",
    "s1, s2 = np.vsplit(dmd1.reconstructed_data.real,2)\n",
    "s1 = s1.T\n",
    "s2 = s2.T\n",
    "plt.figure(figsize=figsize, dpi=dpi)\n",
    "plt.title(\"Reconstructed Angular position and rate\")\n",
    "plt.plot(t_span,s1,'b-',label = r' Reconstruct $\\theta$ - [Rad]')\n",
    "plt.plot(t_span,s2,'r-',label = r' Reconstruct$\\dot{\\theta}$ - [Rad/s]')\n",
    "plt.plot(t_span,y0[:,0],'g--',label = r' Original $\\theta$ - [Rad]')\n",
    "plt.plot(t_span,y0[:,1],'k--',label = r' Original $\\dot{\\theta}$ - [Rad/s]')\n",
    "plt.xlabel(r\"$t$, [s]\")\n",
    "plt.ylabel(r\"State\")\n",
    "plt.legend(loc='best')\n",
    "plt.show()"
   ],
   "metadata": {
    "collapsed": false,
    "pycharm": {
     "name": "#%%\n"
    }
   }
  },
  {
   "cell_type": "code",
   "execution_count": null,
   "outputs": [],
   "source": [
    "#DMD on Controlled States\n",
    "\n",
    "#DMD Time\n",
    "dmd2 = DMD(svd_rank=2, exact = True)\n",
    "dmd2.fit(y1.T)\n",
    "for eig in dmd2.eigs:\n",
    "    print('Eigenvalue {}: distance from unit circle {}'.format(eig, np.abs(eig.imag**2+eig.real**2 - 1)))\n",
    "\n",
    "dmd2.plot_eigs(show_axes=True, show_unit_circle=True)\n",
    "\n",
    "s21, s22 = np.vsplit(dmd2.reconstructed_data.real,2)\n",
    "s21 = s21.T\n",
    "s22 = s22.T\n",
    "\n",
    "plt.figure(figsize=figsize, dpi=dpi)\n",
    "plt.title(\"Reconstructed Angular position and rate\")\n",
    "plt.plot(t_span,s21,'b-',label = r' Reconstruct $\\theta$ - [Rad]')\n",
    "plt.plot(t_span,s22,'r-',label = r' Reconstruct$\\dot{\\theta}$ - [Rad/s]')\n",
    "plt.plot(t_span,y1[:,0],'g--',label = r' Original $\\theta$ - [Rad]')\n",
    "plt.plot(t_span,y1[:,1],'k--',label = r' Original $\\dot{\\theta}$ - [Rad/s]')\n",
    "plt.xlabel(r\"$t$, [s]\")\n",
    "plt.ylabel(r\"State\")\n",
    "plt.legend(loc='best')\n",
    "plt.show()\n",
    "\n"
   ],
   "metadata": {
    "collapsed": false,
    "pycharm": {
     "name": "#%%\n"
    }
   }
  }
 ],
 "metadata": {
  "kernelspec": {
   "display_name": "Python 3",
   "language": "python",
   "name": "python3"
  },
  "language_info": {
   "codemirror_mode": {
    "name": "ipython",
    "version": 2
   },
   "file_extension": ".py",
   "mimetype": "text/x-python",
   "name": "python",
   "nbconvert_exporter": "python",
   "pygments_lexer": "ipython2",
   "version": "2.7.6"
  }
 },
 "nbformat": 4,
 "nbformat_minor": 0
}